{
 "cells": [
  {
   "cell_type": "markdown",
   "metadata": {
    "toc": true
   },
   "source": [
    "<h1>Содержание<span class=\"tocSkip\"></span></h1>\n",
    "<div class=\"toc\"><ul class=\"toc-item\"><li><span><a href=\"#Подготовка-данных\" data-toc-modified-id=\"Подготовка-данных-1\"><span class=\"toc-item-num\">1&nbsp;&nbsp;</span>Подготовка данных</a></span><ul class=\"toc-item\"><li><span><a href=\"#Обзор-даных\" data-toc-modified-id=\"Обзор-даных-1.1\"><span class=\"toc-item-num\">1.1&nbsp;&nbsp;</span>Обзор даных</a></span></li><li><span><a href=\"#Подготовка-признаков\" data-toc-modified-id=\"Подготовка-признаков-1.2\"><span class=\"toc-item-num\">1.2&nbsp;&nbsp;</span>Подготовка признаков</a></span><ul class=\"toc-item\"><li><span><a href=\"#One-Hot-Encoding\" data-toc-modified-id=\"One-Hot-Encoding-1.2.1\"><span class=\"toc-item-num\">1.2.1&nbsp;&nbsp;</span>One-Hot Encoding</a></span></li><li><span><a href=\"#Подготовка-выборок\" data-toc-modified-id=\"Подготовка-выборок-1.2.2\"><span class=\"toc-item-num\">1.2.2&nbsp;&nbsp;</span>Подготовка выборок</a></span></li><li><span><a href=\"#Масштабирование-признаков\" data-toc-modified-id=\"Масштабирование-признаков-1.2.3\"><span class=\"toc-item-num\">1.2.3&nbsp;&nbsp;</span>Масштабирование признаков</a></span></li></ul></li></ul></li><li><span><a href=\"#Исследование-задачи\" data-toc-modified-id=\"Исследование-задачи-2\"><span class=\"toc-item-num\">2&nbsp;&nbsp;</span>Исследование задачи</a></span><ul class=\"toc-item\"><li><span><a href=\"#Логистическая-регрессия\" data-toc-modified-id=\"Логистическая-регрессия-2.1\"><span class=\"toc-item-num\">2.1&nbsp;&nbsp;</span>Логистическая регрессия</a></span></li><li><span><a href=\"#Решающее-дерево\" data-toc-modified-id=\"Решающее-дерево-2.2\"><span class=\"toc-item-num\">2.2&nbsp;&nbsp;</span>Решающее дерево</a></span></li><li><span><a href=\"#Случайный-лес\" data-toc-modified-id=\"Случайный-лес-2.3\"><span class=\"toc-item-num\">2.3&nbsp;&nbsp;</span>Случайный лес</a></span></li></ul></li><li><span><a href=\"#Борьба-с-дисбалансом\" data-toc-modified-id=\"Борьба-с-дисбалансом-3\"><span class=\"toc-item-num\">3&nbsp;&nbsp;</span>Борьба с дисбалансом</a></span><ul class=\"toc-item\"><li><span><a href=\"#Взвешивание-классов\" data-toc-modified-id=\"Взвешивание-классов-3.1\"><span class=\"toc-item-num\">3.1&nbsp;&nbsp;</span>Взвешивание классов</a></span><ul class=\"toc-item\"><li><span><a href=\"#Логистическая-регрессия\" data-toc-modified-id=\"Логистическая-регрессия-3.1.1\"><span class=\"toc-item-num\">3.1.1&nbsp;&nbsp;</span>Логистическая регрессия</a></span></li><li><span><a href=\"#Решающее-дерево\" data-toc-modified-id=\"Решающее-дерево-3.1.2\"><span class=\"toc-item-num\">3.1.2&nbsp;&nbsp;</span>Решающее дерево</a></span></li><li><span><a href=\"#Случайный-лес\" data-toc-modified-id=\"Случайный-лес-3.1.3\"><span class=\"toc-item-num\">3.1.3&nbsp;&nbsp;</span>Случайный лес</a></span></li></ul></li><li><span><a href=\"#Upsampling\" data-toc-modified-id=\"Upsampling-3.2\"><span class=\"toc-item-num\">3.2&nbsp;&nbsp;</span>Upsampling</a></span><ul class=\"toc-item\"><li><span><a href=\"#Логистическая-регрессия\" data-toc-modified-id=\"Логистическая-регрессия-3.2.1\"><span class=\"toc-item-num\">3.2.1&nbsp;&nbsp;</span>Логистическая регрессия</a></span></li><li><span><a href=\"#Решающее-дерево\" data-toc-modified-id=\"Решающее-дерево-3.2.2\"><span class=\"toc-item-num\">3.2.2&nbsp;&nbsp;</span>Решающее дерево</a></span></li><li><span><a href=\"#Случайный-лес\" data-toc-modified-id=\"Случайный-лес-3.2.3\"><span class=\"toc-item-num\">3.2.3&nbsp;&nbsp;</span>Случайный лес</a></span></li></ul></li><li><span><a href=\"#Downsampling\" data-toc-modified-id=\"Downsampling-3.3\"><span class=\"toc-item-num\">3.3&nbsp;&nbsp;</span>Downsampling</a></span><ul class=\"toc-item\"><li><span><a href=\"#Логистическая-регрессия\" data-toc-modified-id=\"Логистическая-регрессия-3.3.1\"><span class=\"toc-item-num\">3.3.1&nbsp;&nbsp;</span>Логистическая регрессия</a></span></li><li><span><a href=\"#Решающее-дерево\" data-toc-modified-id=\"Решающее-дерево-3.3.2\"><span class=\"toc-item-num\">3.3.2&nbsp;&nbsp;</span>Решающее дерево</a></span></li><li><span><a href=\"#Случайный-лес\" data-toc-modified-id=\"Случайный-лес-3.3.3\"><span class=\"toc-item-num\">3.3.3&nbsp;&nbsp;</span>Случайный лес</a></span></li></ul></li></ul></li><li><span><a href=\"#Тестирование-модели\" data-toc-modified-id=\"Тестирование-модели-4\"><span class=\"toc-item-num\">4&nbsp;&nbsp;</span>Тестирование модели</a></span></li><li><span><a href=\"#Выводы:\" data-toc-modified-id=\"Выводы:-5\"><span class=\"toc-item-num\">5&nbsp;&nbsp;</span>Выводы:</a></span></li></ul></div>"
   ]
  },
  {
   "cell_type": "markdown",
   "metadata": {},
   "source": [
    "# Отток клиентов"
   ]
  },
  {
   "cell_type": "markdown",
   "metadata": {},
   "source": [
    "Из «Бета-Банка» стали уходить клиенты. Каждый месяц. Немного, но заметно. Банковские маркетологи посчитали: сохранять текущих клиентов дешевле, чем привлекать новых.\n",
    "\n",
    "Нужно спрогнозировать, уйдёт клиент из банка в ближайшее время или нет. Для исследования предоставлены исторические данные о поведении клиентов и расторжении договоров с банком. \n",
    "\n",
    "Необходимо построить модель с предельно большим значением *F1*-меры (не менее 0.59). \n",
    "\n",
    "Дополнительно нужно будет измерить *AUC-ROC* и сравнить её значение с *F1*-мерой.\n",
    "\n",
    "Источник данных: [https://www.kaggle.com/barelydedicated/bank-customer-churn-modeling](https://www.kaggle.com/barelydedicated/bank-customer-churn-modeling)"
   ]
  },
  {
   "cell_type": "markdown",
   "metadata": {},
   "source": [
    "## Подготовка данных"
   ]
  },
  {
   "cell_type": "markdown",
   "metadata": {},
   "source": [
    "### Обзор даных"
   ]
  },
  {
   "cell_type": "markdown",
   "metadata": {},
   "source": [
    "Имопртируем бибилиотеки:"
   ]
  },
  {
   "cell_type": "code",
   "execution_count": 1,
   "metadata": {},
   "outputs": [],
   "source": [
    "import pandas as pd\n",
    "import seaborn as sns\n",
    "import numpy as np\n",
    "import matplotlib.pyplot as plt\n",
    "\n",
    "from sklearn.model_selection import train_test_split, GridSearchCV\n",
    "from sklearn.preprocessing import StandardScaler\n",
    "from sklearn.metrics import confusion_matrix, f1_score, recall_score, precision_score, accuracy_score \n",
    "from sklearn.metrics import roc_curve, roc_auc_score\n",
    "from sklearn.utils import shuffle\n",
    "\n",
    "from sklearn.tree import DecisionTreeClassifier\n",
    "from sklearn.ensemble import RandomForestClassifier\n",
    "from sklearn.linear_model import LogisticRegression"
   ]
  },
  {
   "cell_type": "markdown",
   "metadata": {},
   "source": [
    "Считаем датасет и сохраним в переменную:"
   ]
  },
  {
   "cell_type": "code",
   "execution_count": 2,
   "metadata": {},
   "outputs": [],
   "source": [
    "try:\n",
    "    df = pd.read_csv('/datasets/Churn.csv')\n",
    "except:\n",
    "    df = pd.read_csv('Churn.csv')"
   ]
  },
  {
   "cell_type": "markdown",
   "metadata": {},
   "source": [
    "Выведем на экран первые, последние и случайные пять строк датасета и общую информацию:"
   ]
  },
  {
   "cell_type": "code",
   "execution_count": 3,
   "metadata": {},
   "outputs": [
    {
     "name": "stdout",
     "output_type": "stream",
     "text": [
      "<class 'pandas.core.frame.DataFrame'>\n",
      "RangeIndex: 10000 entries, 0 to 9999\n",
      "Data columns (total 14 columns):\n",
      "RowNumber          10000 non-null int64\n",
      "CustomerId         10000 non-null int64\n",
      "Surname            10000 non-null object\n",
      "CreditScore        10000 non-null int64\n",
      "Geography          10000 non-null object\n",
      "Gender             10000 non-null object\n",
      "Age                10000 non-null int64\n",
      "Tenure             9091 non-null float64\n",
      "Balance            10000 non-null float64\n",
      "NumOfProducts      10000 non-null int64\n",
      "HasCrCard          10000 non-null int64\n",
      "IsActiveMember     10000 non-null int64\n",
      "EstimatedSalary    10000 non-null float64\n",
      "Exited             10000 non-null int64\n",
      "dtypes: float64(3), int64(8), object(3)\n",
      "memory usage: 1.1+ MB\n"
     ]
    },
    {
     "data": {
      "text/html": [
       "<div>\n",
       "<style scoped>\n",
       "    .dataframe tbody tr th:only-of-type {\n",
       "        vertical-align: middle;\n",
       "    }\n",
       "\n",
       "    .dataframe tbody tr th {\n",
       "        vertical-align: top;\n",
       "    }\n",
       "\n",
       "    .dataframe thead th {\n",
       "        text-align: right;\n",
       "    }\n",
       "</style>\n",
       "<table border=\"1\" class=\"dataframe\">\n",
       "  <thead>\n",
       "    <tr style=\"text-align: right;\">\n",
       "      <th></th>\n",
       "      <th>RowNumber</th>\n",
       "      <th>CustomerId</th>\n",
       "      <th>Surname</th>\n",
       "      <th>CreditScore</th>\n",
       "      <th>Geography</th>\n",
       "      <th>Gender</th>\n",
       "      <th>Age</th>\n",
       "      <th>Tenure</th>\n",
       "      <th>Balance</th>\n",
       "      <th>NumOfProducts</th>\n",
       "      <th>HasCrCard</th>\n",
       "      <th>IsActiveMember</th>\n",
       "      <th>EstimatedSalary</th>\n",
       "      <th>Exited</th>\n",
       "    </tr>\n",
       "  </thead>\n",
       "  <tbody>\n",
       "    <tr>\n",
       "      <td>0</td>\n",
       "      <td>1</td>\n",
       "      <td>15634602</td>\n",
       "      <td>Hargrave</td>\n",
       "      <td>619</td>\n",
       "      <td>France</td>\n",
       "      <td>Female</td>\n",
       "      <td>42</td>\n",
       "      <td>2.0</td>\n",
       "      <td>0.00</td>\n",
       "      <td>1</td>\n",
       "      <td>1</td>\n",
       "      <td>1</td>\n",
       "      <td>101348.88</td>\n",
       "      <td>1</td>\n",
       "    </tr>\n",
       "    <tr>\n",
       "      <td>1</td>\n",
       "      <td>2</td>\n",
       "      <td>15647311</td>\n",
       "      <td>Hill</td>\n",
       "      <td>608</td>\n",
       "      <td>Spain</td>\n",
       "      <td>Female</td>\n",
       "      <td>41</td>\n",
       "      <td>1.0</td>\n",
       "      <td>83807.86</td>\n",
       "      <td>1</td>\n",
       "      <td>0</td>\n",
       "      <td>1</td>\n",
       "      <td>112542.58</td>\n",
       "      <td>0</td>\n",
       "    </tr>\n",
       "    <tr>\n",
       "      <td>2</td>\n",
       "      <td>3</td>\n",
       "      <td>15619304</td>\n",
       "      <td>Onio</td>\n",
       "      <td>502</td>\n",
       "      <td>France</td>\n",
       "      <td>Female</td>\n",
       "      <td>42</td>\n",
       "      <td>8.0</td>\n",
       "      <td>159660.80</td>\n",
       "      <td>3</td>\n",
       "      <td>1</td>\n",
       "      <td>0</td>\n",
       "      <td>113931.57</td>\n",
       "      <td>1</td>\n",
       "    </tr>\n",
       "    <tr>\n",
       "      <td>3</td>\n",
       "      <td>4</td>\n",
       "      <td>15701354</td>\n",
       "      <td>Boni</td>\n",
       "      <td>699</td>\n",
       "      <td>France</td>\n",
       "      <td>Female</td>\n",
       "      <td>39</td>\n",
       "      <td>1.0</td>\n",
       "      <td>0.00</td>\n",
       "      <td>2</td>\n",
       "      <td>0</td>\n",
       "      <td>0</td>\n",
       "      <td>93826.63</td>\n",
       "      <td>0</td>\n",
       "    </tr>\n",
       "    <tr>\n",
       "      <td>4</td>\n",
       "      <td>5</td>\n",
       "      <td>15737888</td>\n",
       "      <td>Mitchell</td>\n",
       "      <td>850</td>\n",
       "      <td>Spain</td>\n",
       "      <td>Female</td>\n",
       "      <td>43</td>\n",
       "      <td>2.0</td>\n",
       "      <td>125510.82</td>\n",
       "      <td>1</td>\n",
       "      <td>1</td>\n",
       "      <td>1</td>\n",
       "      <td>79084.10</td>\n",
       "      <td>0</td>\n",
       "    </tr>\n",
       "    <tr>\n",
       "      <td>7867</td>\n",
       "      <td>7868</td>\n",
       "      <td>15697201</td>\n",
       "      <td>Yocum</td>\n",
       "      <td>640</td>\n",
       "      <td>Spain</td>\n",
       "      <td>Female</td>\n",
       "      <td>46</td>\n",
       "      <td>3.0</td>\n",
       "      <td>0.00</td>\n",
       "      <td>1</td>\n",
       "      <td>1</td>\n",
       "      <td>1</td>\n",
       "      <td>156260.08</td>\n",
       "      <td>0</td>\n",
       "    </tr>\n",
       "    <tr>\n",
       "      <td>1402</td>\n",
       "      <td>1403</td>\n",
       "      <td>15613282</td>\n",
       "      <td>Vorobyova</td>\n",
       "      <td>757</td>\n",
       "      <td>France</td>\n",
       "      <td>Male</td>\n",
       "      <td>29</td>\n",
       "      <td>8.0</td>\n",
       "      <td>130306.49</td>\n",
       "      <td>1</td>\n",
       "      <td>1</td>\n",
       "      <td>0</td>\n",
       "      <td>77469.38</td>\n",
       "      <td>0</td>\n",
       "    </tr>\n",
       "    <tr>\n",
       "      <td>8606</td>\n",
       "      <td>8607</td>\n",
       "      <td>15694581</td>\n",
       "      <td>Rawlings</td>\n",
       "      <td>807</td>\n",
       "      <td>Spain</td>\n",
       "      <td>Male</td>\n",
       "      <td>42</td>\n",
       "      <td>5.0</td>\n",
       "      <td>0.00</td>\n",
       "      <td>2</td>\n",
       "      <td>1</td>\n",
       "      <td>1</td>\n",
       "      <td>74900.90</td>\n",
       "      <td>0</td>\n",
       "    </tr>\n",
       "    <tr>\n",
       "      <td>8885</td>\n",
       "      <td>8886</td>\n",
       "      <td>15815125</td>\n",
       "      <td>Michael</td>\n",
       "      <td>668</td>\n",
       "      <td>Spain</td>\n",
       "      <td>Male</td>\n",
       "      <td>45</td>\n",
       "      <td>4.0</td>\n",
       "      <td>102486.21</td>\n",
       "      <td>2</td>\n",
       "      <td>1</td>\n",
       "      <td>1</td>\n",
       "      <td>158379.25</td>\n",
       "      <td>0</td>\n",
       "    </tr>\n",
       "    <tr>\n",
       "      <td>6494</td>\n",
       "      <td>6495</td>\n",
       "      <td>15752846</td>\n",
       "      <td>Pinto</td>\n",
       "      <td>699</td>\n",
       "      <td>France</td>\n",
       "      <td>Male</td>\n",
       "      <td>28</td>\n",
       "      <td>7.0</td>\n",
       "      <td>0.00</td>\n",
       "      <td>2</td>\n",
       "      <td>1</td>\n",
       "      <td>1</td>\n",
       "      <td>22684.78</td>\n",
       "      <td>0</td>\n",
       "    </tr>\n",
       "    <tr>\n",
       "      <td>9995</td>\n",
       "      <td>9996</td>\n",
       "      <td>15606229</td>\n",
       "      <td>Obijiaku</td>\n",
       "      <td>771</td>\n",
       "      <td>France</td>\n",
       "      <td>Male</td>\n",
       "      <td>39</td>\n",
       "      <td>5.0</td>\n",
       "      <td>0.00</td>\n",
       "      <td>2</td>\n",
       "      <td>1</td>\n",
       "      <td>0</td>\n",
       "      <td>96270.64</td>\n",
       "      <td>0</td>\n",
       "    </tr>\n",
       "    <tr>\n",
       "      <td>9996</td>\n",
       "      <td>9997</td>\n",
       "      <td>15569892</td>\n",
       "      <td>Johnstone</td>\n",
       "      <td>516</td>\n",
       "      <td>France</td>\n",
       "      <td>Male</td>\n",
       "      <td>35</td>\n",
       "      <td>10.0</td>\n",
       "      <td>57369.61</td>\n",
       "      <td>1</td>\n",
       "      <td>1</td>\n",
       "      <td>1</td>\n",
       "      <td>101699.77</td>\n",
       "      <td>0</td>\n",
       "    </tr>\n",
       "    <tr>\n",
       "      <td>9997</td>\n",
       "      <td>9998</td>\n",
       "      <td>15584532</td>\n",
       "      <td>Liu</td>\n",
       "      <td>709</td>\n",
       "      <td>France</td>\n",
       "      <td>Female</td>\n",
       "      <td>36</td>\n",
       "      <td>7.0</td>\n",
       "      <td>0.00</td>\n",
       "      <td>1</td>\n",
       "      <td>0</td>\n",
       "      <td>1</td>\n",
       "      <td>42085.58</td>\n",
       "      <td>1</td>\n",
       "    </tr>\n",
       "    <tr>\n",
       "      <td>9998</td>\n",
       "      <td>9999</td>\n",
       "      <td>15682355</td>\n",
       "      <td>Sabbatini</td>\n",
       "      <td>772</td>\n",
       "      <td>Germany</td>\n",
       "      <td>Male</td>\n",
       "      <td>42</td>\n",
       "      <td>3.0</td>\n",
       "      <td>75075.31</td>\n",
       "      <td>2</td>\n",
       "      <td>1</td>\n",
       "      <td>0</td>\n",
       "      <td>92888.52</td>\n",
       "      <td>1</td>\n",
       "    </tr>\n",
       "    <tr>\n",
       "      <td>9999</td>\n",
       "      <td>10000</td>\n",
       "      <td>15628319</td>\n",
       "      <td>Walker</td>\n",
       "      <td>792</td>\n",
       "      <td>France</td>\n",
       "      <td>Female</td>\n",
       "      <td>28</td>\n",
       "      <td>NaN</td>\n",
       "      <td>130142.79</td>\n",
       "      <td>1</td>\n",
       "      <td>1</td>\n",
       "      <td>0</td>\n",
       "      <td>38190.78</td>\n",
       "      <td>0</td>\n",
       "    </tr>\n",
       "  </tbody>\n",
       "</table>\n",
       "</div>"
      ],
      "text/plain": [
       "      RowNumber  CustomerId    Surname  CreditScore Geography  Gender  Age  \\\n",
       "0             1    15634602   Hargrave          619    France  Female   42   \n",
       "1             2    15647311       Hill          608     Spain  Female   41   \n",
       "2             3    15619304       Onio          502    France  Female   42   \n",
       "3             4    15701354       Boni          699    France  Female   39   \n",
       "4             5    15737888   Mitchell          850     Spain  Female   43   \n",
       "7867       7868    15697201      Yocum          640     Spain  Female   46   \n",
       "1402       1403    15613282  Vorobyova          757    France    Male   29   \n",
       "8606       8607    15694581   Rawlings          807     Spain    Male   42   \n",
       "8885       8886    15815125    Michael          668     Spain    Male   45   \n",
       "6494       6495    15752846      Pinto          699    France    Male   28   \n",
       "9995       9996    15606229   Obijiaku          771    France    Male   39   \n",
       "9996       9997    15569892  Johnstone          516    France    Male   35   \n",
       "9997       9998    15584532        Liu          709    France  Female   36   \n",
       "9998       9999    15682355  Sabbatini          772   Germany    Male   42   \n",
       "9999      10000    15628319     Walker          792    France  Female   28   \n",
       "\n",
       "      Tenure    Balance  NumOfProducts  HasCrCard  IsActiveMember  \\\n",
       "0        2.0       0.00              1          1               1   \n",
       "1        1.0   83807.86              1          0               1   \n",
       "2        8.0  159660.80              3          1               0   \n",
       "3        1.0       0.00              2          0               0   \n",
       "4        2.0  125510.82              1          1               1   \n",
       "7867     3.0       0.00              1          1               1   \n",
       "1402     8.0  130306.49              1          1               0   \n",
       "8606     5.0       0.00              2          1               1   \n",
       "8885     4.0  102486.21              2          1               1   \n",
       "6494     7.0       0.00              2          1               1   \n",
       "9995     5.0       0.00              2          1               0   \n",
       "9996    10.0   57369.61              1          1               1   \n",
       "9997     7.0       0.00              1          0               1   \n",
       "9998     3.0   75075.31              2          1               0   \n",
       "9999     NaN  130142.79              1          1               0   \n",
       "\n",
       "      EstimatedSalary  Exited  \n",
       "0           101348.88       1  \n",
       "1           112542.58       0  \n",
       "2           113931.57       1  \n",
       "3            93826.63       0  \n",
       "4            79084.10       0  \n",
       "7867        156260.08       0  \n",
       "1402         77469.38       0  \n",
       "8606         74900.90       0  \n",
       "8885        158379.25       0  \n",
       "6494         22684.78       0  \n",
       "9995         96270.64       0  \n",
       "9996        101699.77       0  \n",
       "9997         42085.58       1  \n",
       "9998         92888.52       1  \n",
       "9999         38190.78       0  "
      ]
     },
     "metadata": {},
     "output_type": "display_data"
    },
    {
     "data": {
      "text/plain": [
       "None"
      ]
     },
     "metadata": {},
     "output_type": "display_data"
    },
    {
     "data": {
      "text/html": [
       "<div>\n",
       "<style scoped>\n",
       "    .dataframe tbody tr th:only-of-type {\n",
       "        vertical-align: middle;\n",
       "    }\n",
       "\n",
       "    .dataframe tbody tr th {\n",
       "        vertical-align: top;\n",
       "    }\n",
       "\n",
       "    .dataframe thead th {\n",
       "        text-align: right;\n",
       "    }\n",
       "</style>\n",
       "<table border=\"1\" class=\"dataframe\">\n",
       "  <thead>\n",
       "    <tr style=\"text-align: right;\">\n",
       "      <th></th>\n",
       "      <th>count</th>\n",
       "      <th>mean</th>\n",
       "      <th>std</th>\n",
       "      <th>min</th>\n",
       "      <th>25%</th>\n",
       "      <th>50%</th>\n",
       "      <th>75%</th>\n",
       "      <th>max</th>\n",
       "    </tr>\n",
       "  </thead>\n",
       "  <tbody>\n",
       "    <tr>\n",
       "      <td>RowNumber</td>\n",
       "      <td>10000.0</td>\n",
       "      <td>5.000500e+03</td>\n",
       "      <td>2886.895680</td>\n",
       "      <td>1.00</td>\n",
       "      <td>2500.75</td>\n",
       "      <td>5.000500e+03</td>\n",
       "      <td>7.500250e+03</td>\n",
       "      <td>10000.00</td>\n",
       "    </tr>\n",
       "    <tr>\n",
       "      <td>CustomerId</td>\n",
       "      <td>10000.0</td>\n",
       "      <td>1.569094e+07</td>\n",
       "      <td>71936.186123</td>\n",
       "      <td>15565701.00</td>\n",
       "      <td>15628528.25</td>\n",
       "      <td>1.569074e+07</td>\n",
       "      <td>1.575323e+07</td>\n",
       "      <td>15815690.00</td>\n",
       "    </tr>\n",
       "    <tr>\n",
       "      <td>CreditScore</td>\n",
       "      <td>10000.0</td>\n",
       "      <td>6.505288e+02</td>\n",
       "      <td>96.653299</td>\n",
       "      <td>350.00</td>\n",
       "      <td>584.00</td>\n",
       "      <td>6.520000e+02</td>\n",
       "      <td>7.180000e+02</td>\n",
       "      <td>850.00</td>\n",
       "    </tr>\n",
       "    <tr>\n",
       "      <td>Age</td>\n",
       "      <td>10000.0</td>\n",
       "      <td>3.892180e+01</td>\n",
       "      <td>10.487806</td>\n",
       "      <td>18.00</td>\n",
       "      <td>32.00</td>\n",
       "      <td>3.700000e+01</td>\n",
       "      <td>4.400000e+01</td>\n",
       "      <td>92.00</td>\n",
       "    </tr>\n",
       "    <tr>\n",
       "      <td>Tenure</td>\n",
       "      <td>9091.0</td>\n",
       "      <td>4.997690e+00</td>\n",
       "      <td>2.894723</td>\n",
       "      <td>0.00</td>\n",
       "      <td>2.00</td>\n",
       "      <td>5.000000e+00</td>\n",
       "      <td>7.000000e+00</td>\n",
       "      <td>10.00</td>\n",
       "    </tr>\n",
       "    <tr>\n",
       "      <td>Balance</td>\n",
       "      <td>10000.0</td>\n",
       "      <td>7.648589e+04</td>\n",
       "      <td>62397.405202</td>\n",
       "      <td>0.00</td>\n",
       "      <td>0.00</td>\n",
       "      <td>9.719854e+04</td>\n",
       "      <td>1.276442e+05</td>\n",
       "      <td>250898.09</td>\n",
       "    </tr>\n",
       "    <tr>\n",
       "      <td>NumOfProducts</td>\n",
       "      <td>10000.0</td>\n",
       "      <td>1.530200e+00</td>\n",
       "      <td>0.581654</td>\n",
       "      <td>1.00</td>\n",
       "      <td>1.00</td>\n",
       "      <td>1.000000e+00</td>\n",
       "      <td>2.000000e+00</td>\n",
       "      <td>4.00</td>\n",
       "    </tr>\n",
       "    <tr>\n",
       "      <td>HasCrCard</td>\n",
       "      <td>10000.0</td>\n",
       "      <td>7.055000e-01</td>\n",
       "      <td>0.455840</td>\n",
       "      <td>0.00</td>\n",
       "      <td>0.00</td>\n",
       "      <td>1.000000e+00</td>\n",
       "      <td>1.000000e+00</td>\n",
       "      <td>1.00</td>\n",
       "    </tr>\n",
       "    <tr>\n",
       "      <td>IsActiveMember</td>\n",
       "      <td>10000.0</td>\n",
       "      <td>5.151000e-01</td>\n",
       "      <td>0.499797</td>\n",
       "      <td>0.00</td>\n",
       "      <td>0.00</td>\n",
       "      <td>1.000000e+00</td>\n",
       "      <td>1.000000e+00</td>\n",
       "      <td>1.00</td>\n",
       "    </tr>\n",
       "    <tr>\n",
       "      <td>EstimatedSalary</td>\n",
       "      <td>10000.0</td>\n",
       "      <td>1.000902e+05</td>\n",
       "      <td>57510.492818</td>\n",
       "      <td>11.58</td>\n",
       "      <td>51002.11</td>\n",
       "      <td>1.001939e+05</td>\n",
       "      <td>1.493882e+05</td>\n",
       "      <td>199992.48</td>\n",
       "    </tr>\n",
       "    <tr>\n",
       "      <td>Exited</td>\n",
       "      <td>10000.0</td>\n",
       "      <td>2.037000e-01</td>\n",
       "      <td>0.402769</td>\n",
       "      <td>0.00</td>\n",
       "      <td>0.00</td>\n",
       "      <td>0.000000e+00</td>\n",
       "      <td>0.000000e+00</td>\n",
       "      <td>1.00</td>\n",
       "    </tr>\n",
       "  </tbody>\n",
       "</table>\n",
       "</div>"
      ],
      "text/plain": [
       "                   count          mean           std          min  \\\n",
       "RowNumber        10000.0  5.000500e+03   2886.895680         1.00   \n",
       "CustomerId       10000.0  1.569094e+07  71936.186123  15565701.00   \n",
       "CreditScore      10000.0  6.505288e+02     96.653299       350.00   \n",
       "Age              10000.0  3.892180e+01     10.487806        18.00   \n",
       "Tenure            9091.0  4.997690e+00      2.894723         0.00   \n",
       "Balance          10000.0  7.648589e+04  62397.405202         0.00   \n",
       "NumOfProducts    10000.0  1.530200e+00      0.581654         1.00   \n",
       "HasCrCard        10000.0  7.055000e-01      0.455840         0.00   \n",
       "IsActiveMember   10000.0  5.151000e-01      0.499797         0.00   \n",
       "EstimatedSalary  10000.0  1.000902e+05  57510.492818        11.58   \n",
       "Exited           10000.0  2.037000e-01      0.402769         0.00   \n",
       "\n",
       "                         25%           50%           75%          max  \n",
       "RowNumber            2500.75  5.000500e+03  7.500250e+03     10000.00  \n",
       "CustomerId       15628528.25  1.569074e+07  1.575323e+07  15815690.00  \n",
       "CreditScore           584.00  6.520000e+02  7.180000e+02       850.00  \n",
       "Age                    32.00  3.700000e+01  4.400000e+01        92.00  \n",
       "Tenure                  2.00  5.000000e+00  7.000000e+00        10.00  \n",
       "Balance                 0.00  9.719854e+04  1.276442e+05    250898.09  \n",
       "NumOfProducts           1.00  1.000000e+00  2.000000e+00         4.00  \n",
       "HasCrCard               0.00  1.000000e+00  1.000000e+00         1.00  \n",
       "IsActiveMember          0.00  1.000000e+00  1.000000e+00         1.00  \n",
       "EstimatedSalary     51002.11  1.001939e+05  1.493882e+05    199992.48  \n",
       "Exited                  0.00  0.000000e+00  0.000000e+00         1.00  "
      ]
     },
     "metadata": {},
     "output_type": "display_data"
    }
   ],
   "source": [
    "display(pd.concat([df.head(), df.sample(5, random_state=12345), df.tail()]),\n",
    "        df.info(),\n",
    "        df.describe().T)"
   ]
  },
  {
   "cell_type": "markdown",
   "metadata": {},
   "source": [
    "В датасете `Churn.csv` 14 колонок и 10000 строк. Тип данных в колонках `float64`, `int64` и `object`, соответствует содержащимся в них типам данных.\n",
    "Согласно документации к данным, к признаками относятся следующие колонки:\n",
    "* `RowNumber` — индекс строки в данных;\n",
    "* `CustomerId` — уникальный идентификатор клиента;\n",
    "* `Surname` — фамилия;\n",
    "* `CreditScore` — кредитный рейтинг;\n",
    "* `Geography` — страна проживания;\n",
    "* `Gender` — пол;\n",
    "* `Age` — возраст;\n",
    "* `Tenure` — сколько лет человек является клиентом банка;\n",
    "* `Balance` — баланс на счёте;\n",
    "* `NumOfProducts` — количество продуктов банка, используемых клиентом;\n",
    "* `HasCrCard` — наличие кредитной карты;\n",
    "* `IsActiveMember` — активность клиента;\n",
    "* `EstimatedSalary` — предполагаемая зарплата.\n",
    "\n",
    "Целевой признак:\n",
    "* `Exited` — факт ухода клиента.\n",
    "\n",
    "В колонке `Tenure` пропущено примерно 9% значений."
   ]
  },
  {
   "cell_type": "code",
   "execution_count": 4,
   "metadata": {},
   "outputs": [
    {
     "data": {
      "image/png": "[encoded data removed]",
      "text/plain": [
       "<Figure size 432x288 with 2 Axes>"
      ]
     },
     "metadata": {
      "needs_background": "light"
     },
     "output_type": "display_data"
    }
   ],
   "source": [
    "plt.title('Пропущенные значения', fontsize = 15)\n",
    "sns.heatmap(df.isna(), cmap=\"YlGnBu\");"
   ]
  },
  {
   "cell_type": "markdown",
   "metadata": {},
   "source": [
    "Посмотрим на корреляцию между `Tenure` и другими данными:"
   ]
  },
  {
   "cell_type": "code",
   "execution_count": 5,
   "metadata": {},
   "outputs": [
    {
     "data": {
      "image/png": "[encoded data removed]",
      "text/plain": [
       "<Figure size 432x288 with 2 Axes>"
      ]
     },
     "metadata": {
      "needs_background": "light"
     },
     "output_type": "display_data"
    }
   ],
   "source": [
    "plt.title('Корреляция данных в колонке \"Tenure\" с остальными', fontsize = 15)\n",
    "(sns.heatmap(df\n",
    "             .corr()[['Tenure']]\n",
    "             .sort_values(by='Tenure', ascending=False), cmap=\"YlGnBu\", annot=True, fmt='.2f'\n",
    "            )\n",
    ");"
   ]
  },
  {
   "cell_type": "code",
   "execution_count": 6,
   "metadata": {},
   "outputs": [
    {
     "data": {
      "text/html": [
       "<div>\n",
       "<style scoped>\n",
       "    .dataframe tbody tr th:only-of-type {\n",
       "        vertical-align: middle;\n",
       "    }\n",
       "\n",
       "    .dataframe tbody tr th {\n",
       "        vertical-align: top;\n",
       "    }\n",
       "\n",
       "    .dataframe thead th {\n",
       "        text-align: right;\n",
       "    }\n",
       "</style>\n",
       "<table border=\"1\" class=\"dataframe\">\n",
       "  <thead>\n",
       "    <tr style=\"text-align: right;\">\n",
       "      <th></th>\n",
       "      <th>RowNumber</th>\n",
       "      <th>CustomerId</th>\n",
       "      <th>Surname</th>\n",
       "      <th>CreditScore</th>\n",
       "      <th>Geography</th>\n",
       "      <th>Gender</th>\n",
       "      <th>Age</th>\n",
       "      <th>Tenure</th>\n",
       "      <th>Balance</th>\n",
       "      <th>NumOfProducts</th>\n",
       "      <th>HasCrCard</th>\n",
       "      <th>IsActiveMember</th>\n",
       "      <th>EstimatedSalary</th>\n",
       "      <th>Exited</th>\n",
       "    </tr>\n",
       "  </thead>\n",
       "  <tbody>\n",
       "    <tr>\n",
       "      <td>30</td>\n",
       "      <td>31</td>\n",
       "      <td>15589475</td>\n",
       "      <td>Azikiwe</td>\n",
       "      <td>591</td>\n",
       "      <td>Spain</td>\n",
       "      <td>Female</td>\n",
       "      <td>39</td>\n",
       "      <td>NaN</td>\n",
       "      <td>0.00</td>\n",
       "      <td>3</td>\n",
       "      <td>1</td>\n",
       "      <td>0</td>\n",
       "      <td>140469.38</td>\n",
       "      <td>1</td>\n",
       "    </tr>\n",
       "    <tr>\n",
       "      <td>48</td>\n",
       "      <td>49</td>\n",
       "      <td>15766205</td>\n",
       "      <td>Yin</td>\n",
       "      <td>550</td>\n",
       "      <td>Germany</td>\n",
       "      <td>Male</td>\n",
       "      <td>38</td>\n",
       "      <td>NaN</td>\n",
       "      <td>103391.38</td>\n",
       "      <td>1</td>\n",
       "      <td>0</td>\n",
       "      <td>1</td>\n",
       "      <td>90878.13</td>\n",
       "      <td>0</td>\n",
       "    </tr>\n",
       "    <tr>\n",
       "      <td>51</td>\n",
       "      <td>52</td>\n",
       "      <td>15768193</td>\n",
       "      <td>Trevisani</td>\n",
       "      <td>585</td>\n",
       "      <td>Germany</td>\n",
       "      <td>Male</td>\n",
       "      <td>36</td>\n",
       "      <td>NaN</td>\n",
       "      <td>146050.97</td>\n",
       "      <td>2</td>\n",
       "      <td>0</td>\n",
       "      <td>0</td>\n",
       "      <td>86424.57</td>\n",
       "      <td>0</td>\n",
       "    </tr>\n",
       "    <tr>\n",
       "      <td>53</td>\n",
       "      <td>54</td>\n",
       "      <td>15702298</td>\n",
       "      <td>Parkhill</td>\n",
       "      <td>655</td>\n",
       "      <td>Germany</td>\n",
       "      <td>Male</td>\n",
       "      <td>41</td>\n",
       "      <td>NaN</td>\n",
       "      <td>125561.97</td>\n",
       "      <td>1</td>\n",
       "      <td>0</td>\n",
       "      <td>0</td>\n",
       "      <td>164040.94</td>\n",
       "      <td>1</td>\n",
       "    </tr>\n",
       "    <tr>\n",
       "      <td>60</td>\n",
       "      <td>61</td>\n",
       "      <td>15651280</td>\n",
       "      <td>Hunter</td>\n",
       "      <td>742</td>\n",
       "      <td>Germany</td>\n",
       "      <td>Male</td>\n",
       "      <td>35</td>\n",
       "      <td>NaN</td>\n",
       "      <td>136857.00</td>\n",
       "      <td>1</td>\n",
       "      <td>0</td>\n",
       "      <td>0</td>\n",
       "      <td>84509.57</td>\n",
       "      <td>0</td>\n",
       "    </tr>\n",
       "    <tr>\n",
       "      <td>...</td>\n",
       "      <td>...</td>\n",
       "      <td>...</td>\n",
       "      <td>...</td>\n",
       "      <td>...</td>\n",
       "      <td>...</td>\n",
       "      <td>...</td>\n",
       "      <td>...</td>\n",
       "      <td>...</td>\n",
       "      <td>...</td>\n",
       "      <td>...</td>\n",
       "      <td>...</td>\n",
       "      <td>...</td>\n",
       "      <td>...</td>\n",
       "      <td>...</td>\n",
       "    </tr>\n",
       "    <tr>\n",
       "      <td>9944</td>\n",
       "      <td>9945</td>\n",
       "      <td>15703923</td>\n",
       "      <td>Cameron</td>\n",
       "      <td>744</td>\n",
       "      <td>Germany</td>\n",
       "      <td>Male</td>\n",
       "      <td>41</td>\n",
       "      <td>NaN</td>\n",
       "      <td>190409.34</td>\n",
       "      <td>2</td>\n",
       "      <td>1</td>\n",
       "      <td>1</td>\n",
       "      <td>138361.48</td>\n",
       "      <td>0</td>\n",
       "    </tr>\n",
       "    <tr>\n",
       "      <td>9956</td>\n",
       "      <td>9957</td>\n",
       "      <td>15707861</td>\n",
       "      <td>Nucci</td>\n",
       "      <td>520</td>\n",
       "      <td>France</td>\n",
       "      <td>Female</td>\n",
       "      <td>46</td>\n",
       "      <td>NaN</td>\n",
       "      <td>85216.61</td>\n",
       "      <td>1</td>\n",
       "      <td>1</td>\n",
       "      <td>0</td>\n",
       "      <td>117369.52</td>\n",
       "      <td>1</td>\n",
       "    </tr>\n",
       "    <tr>\n",
       "      <td>9964</td>\n",
       "      <td>9965</td>\n",
       "      <td>15642785</td>\n",
       "      <td>Douglas</td>\n",
       "      <td>479</td>\n",
       "      <td>France</td>\n",
       "      <td>Male</td>\n",
       "      <td>34</td>\n",
       "      <td>NaN</td>\n",
       "      <td>117593.48</td>\n",
       "      <td>2</td>\n",
       "      <td>0</td>\n",
       "      <td>0</td>\n",
       "      <td>113308.29</td>\n",
       "      <td>0</td>\n",
       "    </tr>\n",
       "    <tr>\n",
       "      <td>9985</td>\n",
       "      <td>9986</td>\n",
       "      <td>15586914</td>\n",
       "      <td>Nepean</td>\n",
       "      <td>659</td>\n",
       "      <td>France</td>\n",
       "      <td>Male</td>\n",
       "      <td>36</td>\n",
       "      <td>NaN</td>\n",
       "      <td>123841.49</td>\n",
       "      <td>2</td>\n",
       "      <td>1</td>\n",
       "      <td>0</td>\n",
       "      <td>96833.00</td>\n",
       "      <td>0</td>\n",
       "    </tr>\n",
       "    <tr>\n",
       "      <td>9999</td>\n",
       "      <td>10000</td>\n",
       "      <td>15628319</td>\n",
       "      <td>Walker</td>\n",
       "      <td>792</td>\n",
       "      <td>France</td>\n",
       "      <td>Female</td>\n",
       "      <td>28</td>\n",
       "      <td>NaN</td>\n",
       "      <td>130142.79</td>\n",
       "      <td>1</td>\n",
       "      <td>1</td>\n",
       "      <td>0</td>\n",
       "      <td>38190.78</td>\n",
       "      <td>0</td>\n",
       "    </tr>\n",
       "  </tbody>\n",
       "</table>\n",
       "<p>909 rows × 14 columns</p>\n",
       "</div>"
      ],
      "text/plain": [
       "      RowNumber  CustomerId    Surname  CreditScore Geography  Gender  Age  \\\n",
       "30           31    15589475    Azikiwe          591     Spain  Female   39   \n",
       "48           49    15766205        Yin          550   Germany    Male   38   \n",
       "51           52    15768193  Trevisani          585   Germany    Male   36   \n",
       "53           54    15702298   Parkhill          655   Germany    Male   41   \n",
       "60           61    15651280     Hunter          742   Germany    Male   35   \n",
       "...         ...         ...        ...          ...       ...     ...  ...   \n",
       "9944       9945    15703923    Cameron          744   Germany    Male   41   \n",
       "9956       9957    15707861      Nucci          520    France  Female   46   \n",
       "9964       9965    15642785    Douglas          479    France    Male   34   \n",
       "9985       9986    15586914     Nepean          659    France    Male   36   \n",
       "9999      10000    15628319     Walker          792    France  Female   28   \n",
       "\n",
       "      Tenure    Balance  NumOfProducts  HasCrCard  IsActiveMember  \\\n",
       "30       NaN       0.00              3          1               0   \n",
       "48       NaN  103391.38              1          0               1   \n",
       "51       NaN  146050.97              2          0               0   \n",
       "53       NaN  125561.97              1          0               0   \n",
       "60       NaN  136857.00              1          0               0   \n",
       "...      ...        ...            ...        ...             ...   \n",
       "9944     NaN  190409.34              2          1               1   \n",
       "9956     NaN   85216.61              1          1               0   \n",
       "9964     NaN  117593.48              2          0               0   \n",
       "9985     NaN  123841.49              2          1               0   \n",
       "9999     NaN  130142.79              1          1               0   \n",
       "\n",
       "      EstimatedSalary  Exited  \n",
       "30          140469.38       1  \n",
       "48           90878.13       0  \n",
       "51           86424.57       0  \n",
       "53          164040.94       1  \n",
       "60           84509.57       0  \n",
       "...               ...     ...  \n",
       "9944        138361.48       0  \n",
       "9956        117369.52       1  \n",
       "9964        113308.29       0  \n",
       "9985         96833.00       0  \n",
       "9999         38190.78       0  \n",
       "\n",
       "[909 rows x 14 columns]"
      ]
     },
     "execution_count": 6,
     "metadata": {},
     "output_type": "execute_result"
    }
   ],
   "source": [
    "df[df['Tenure'].isna()]"
   ]
  },
  {
   "cell_type": "markdown",
   "metadata": {},
   "source": [
    "Пропуски распределены по датасету хаотично. Зависимости между пропусками и другими признаками не наблюдается. Скорее всего они образовались из-за потери данных. Удалим строки с пропущенными значениями:"
   ]
  },
  {
   "cell_type": "code",
   "execution_count": 7,
   "metadata": {},
   "outputs": [
    {
     "data": {
      "text/plain": [
       "(9091, 14)"
      ]
     },
     "execution_count": 7,
     "metadata": {},
     "output_type": "execute_result"
    }
   ],
   "source": [
    "df = df.dropna()\n",
    "df.shape"
   ]
  },
  {
   "cell_type": "markdown",
   "metadata": {},
   "source": [
    "Проверим данные на дубликаты:"
   ]
  },
  {
   "cell_type": "code",
   "execution_count": 8,
   "metadata": {},
   "outputs": [
    {
     "data": {
      "text/plain": [
       "0"
      ]
     },
     "execution_count": 8,
     "metadata": {},
     "output_type": "execute_result"
    }
   ],
   "source": [
    "df.duplicated().sum()"
   ]
  },
  {
   "cell_type": "markdown",
   "metadata": {},
   "source": [
    "Среди количественных признаков может вызвать подозрение только размер предполагаемой зарплаты (остальные максимальные, минимальные и средние значения выглядят правдоподобно). Посмотрим на выбивающиеся значения:"
   ]
  },
  {
   "cell_type": "code",
   "execution_count": 9,
   "metadata": {},
   "outputs": [
    {
     "data": {
      "image/png": "[encoded data removed]",
      "text/plain": [
       "<Figure size 432x288 with 1 Axes>"
      ]
     },
     "metadata": {
      "needs_background": "light"
     },
     "output_type": "display_data"
    }
   ],
   "source": [
    "df.boxplot('EstimatedSalary')\n",
    "plt.ylabel('руб.')\n",
    "plt.title('Предполагаемая зарплата', fontsize = 15);"
   ]
  },
  {
   "cell_type": "markdown",
   "metadata": {},
   "source": [
    "Выбивающихся значений не обнаружено.\n",
    "\n",
    "Проверим уникальные значения в колонках `Geography` и `Gender`:"
   ]
  },
  {
   "cell_type": "code",
   "execution_count": 10,
   "metadata": {},
   "outputs": [
    {
     "name": "stdout",
     "output_type": "stream",
     "text": [
      "Geography: ['France' 'Spain' 'Germany']\n",
      "Gender: ['Female' 'Male']\n"
     ]
    }
   ],
   "source": [
    "print('Geography:', df['Geography'].unique())\n",
    "print('Gender:', df['Gender'].unique())"
   ]
  },
  {
   "cell_type": "markdown",
   "metadata": {},
   "source": [
    "Неявные дубликаты и артефакты отсутствуют.\n",
    "\n",
    "Удалим колонки `RowNumber`, `CustomerId` и `Surname`, так как они содержат, преимущественно, уникальные значения, не нужные для целей ML."
   ]
  },
  {
   "cell_type": "code",
   "execution_count": 11,
   "metadata": {},
   "outputs": [],
   "source": [
    "df = df.drop(['RowNumber', 'CustomerId', 'Surname'], axis=1)"
   ]
  },
  {
   "cell_type": "markdown",
   "metadata": {},
   "source": [
    "**Выводы:**"
   ]
  },
  {
   "cell_type": "markdown",
   "metadata": {},
   "source": [
    "В каждой строке датасета содержатся данные об объекте - клиенте банка. Среди признаков мы оставили:\n",
    "* `CreditScore` — кредитный рейтинг;\n",
    "* `Geography` — страна проживания;\n",
    "* `Gender` — пол;\n",
    "* `Age` — возраст;\n",
    "* `Tenure` — сколько лет человек является клиентом банка;\n",
    "* `Balance` — баланс на счёте;\n",
    "* `NumOfProducts` — количество продуктов банка, используемых клиентом;\n",
    "* `HasCrCard` — наличие кредитной карты;\n",
    "* `IsActiveMember` — активность клиента;\n",
    "* `EstimatedSalary` — предполагаемая зарплата.\n",
    "\n",
    "Целевой признак:\n",
    "* `Exited` — факт ухода клиента.\n",
    "\n",
    "Пропущенные значения в колонке `Tenure` составили 9%, корреляции с другими данными не обнаружено. Заполнение пропусков медианой/средним значением не корректно, поэтому они были удалены.\n",
    "\n",
    "Дубликатов, неявных дубликатов, выбивающихся значений и артефактов не обнаружено."
   ]
  },
  {
   "cell_type": "markdown",
   "metadata": {},
   "source": [
    "### Подготовка признаков"
   ]
  },
  {
   "cell_type": "markdown",
   "metadata": {},
   "source": [
    "#### One-Hot Encoding"
   ]
  },
  {
   "cell_type": "markdown",
   "metadata": {},
   "source": [
    "Преобразуем категориальные признаки в численные с помощью техники прямого кодирования (One-Hot Encoding):"
   ]
  },
  {
   "cell_type": "code",
   "execution_count": 12,
   "metadata": {},
   "outputs": [],
   "source": [
    "df_ohe = pd.get_dummies(df, drop_first=True)"
   ]
  },
  {
   "cell_type": "code",
   "execution_count": 13,
   "metadata": {},
   "outputs": [
    {
     "data": {
      "text/html": [
       "<div>\n",
       "<style scoped>\n",
       "    .dataframe tbody tr th:only-of-type {\n",
       "        vertical-align: middle;\n",
       "    }\n",
       "\n",
       "    .dataframe tbody tr th {\n",
       "        vertical-align: top;\n",
       "    }\n",
       "\n",
       "    .dataframe thead th {\n",
       "        text-align: right;\n",
       "    }\n",
       "</style>\n",
       "<table border=\"1\" class=\"dataframe\">\n",
       "  <thead>\n",
       "    <tr style=\"text-align: right;\">\n",
       "      <th></th>\n",
       "      <th>CreditScore</th>\n",
       "      <th>Age</th>\n",
       "      <th>Tenure</th>\n",
       "      <th>Balance</th>\n",
       "      <th>NumOfProducts</th>\n",
       "      <th>HasCrCard</th>\n",
       "      <th>IsActiveMember</th>\n",
       "      <th>EstimatedSalary</th>\n",
       "      <th>Exited</th>\n",
       "      <th>Geography_Germany</th>\n",
       "      <th>Geography_Spain</th>\n",
       "      <th>Gender_Male</th>\n",
       "    </tr>\n",
       "  </thead>\n",
       "  <tbody>\n",
       "    <tr>\n",
       "      <td>0</td>\n",
       "      <td>619</td>\n",
       "      <td>42</td>\n",
       "      <td>2.0</td>\n",
       "      <td>0.00</td>\n",
       "      <td>1</td>\n",
       "      <td>1</td>\n",
       "      <td>1</td>\n",
       "      <td>101348.88</td>\n",
       "      <td>1</td>\n",
       "      <td>0</td>\n",
       "      <td>0</td>\n",
       "      <td>0</td>\n",
       "    </tr>\n",
       "    <tr>\n",
       "      <td>1</td>\n",
       "      <td>608</td>\n",
       "      <td>41</td>\n",
       "      <td>1.0</td>\n",
       "      <td>83807.86</td>\n",
       "      <td>1</td>\n",
       "      <td>0</td>\n",
       "      <td>1</td>\n",
       "      <td>112542.58</td>\n",
       "      <td>0</td>\n",
       "      <td>0</td>\n",
       "      <td>1</td>\n",
       "      <td>0</td>\n",
       "    </tr>\n",
       "    <tr>\n",
       "      <td>2</td>\n",
       "      <td>502</td>\n",
       "      <td>42</td>\n",
       "      <td>8.0</td>\n",
       "      <td>159660.80</td>\n",
       "      <td>3</td>\n",
       "      <td>1</td>\n",
       "      <td>0</td>\n",
       "      <td>113931.57</td>\n",
       "      <td>1</td>\n",
       "      <td>0</td>\n",
       "      <td>0</td>\n",
       "      <td>0</td>\n",
       "    </tr>\n",
       "    <tr>\n",
       "      <td>3</td>\n",
       "      <td>699</td>\n",
       "      <td>39</td>\n",
       "      <td>1.0</td>\n",
       "      <td>0.00</td>\n",
       "      <td>2</td>\n",
       "      <td>0</td>\n",
       "      <td>0</td>\n",
       "      <td>93826.63</td>\n",
       "      <td>0</td>\n",
       "      <td>0</td>\n",
       "      <td>0</td>\n",
       "      <td>0</td>\n",
       "    </tr>\n",
       "    <tr>\n",
       "      <td>4</td>\n",
       "      <td>850</td>\n",
       "      <td>43</td>\n",
       "      <td>2.0</td>\n",
       "      <td>125510.82</td>\n",
       "      <td>1</td>\n",
       "      <td>1</td>\n",
       "      <td>1</td>\n",
       "      <td>79084.10</td>\n",
       "      <td>0</td>\n",
       "      <td>0</td>\n",
       "      <td>1</td>\n",
       "      <td>0</td>\n",
       "    </tr>\n",
       "  </tbody>\n",
       "</table>\n",
       "</div>"
      ],
      "text/plain": [
       "   CreditScore  Age  Tenure    Balance  NumOfProducts  HasCrCard  \\\n",
       "0          619   42     2.0       0.00              1          1   \n",
       "1          608   41     1.0   83807.86              1          0   \n",
       "2          502   42     8.0  159660.80              3          1   \n",
       "3          699   39     1.0       0.00              2          0   \n",
       "4          850   43     2.0  125510.82              1          1   \n",
       "\n",
       "   IsActiveMember  EstimatedSalary  Exited  Geography_Germany  \\\n",
       "0               1        101348.88       1                  0   \n",
       "1               1        112542.58       0                  0   \n",
       "2               0        113931.57       1                  0   \n",
       "3               0         93826.63       0                  0   \n",
       "4               1         79084.10       0                  0   \n",
       "\n",
       "   Geography_Spain  Gender_Male  \n",
       "0                0            0  \n",
       "1                1            0  \n",
       "2                0            0  \n",
       "3                0            0  \n",
       "4                1            0  "
      ]
     },
     "execution_count": 13,
     "metadata": {},
     "output_type": "execute_result"
    }
   ],
   "source": [
    "df_ohe.head()"
   ]
  },
  {
   "cell_type": "markdown",
   "metadata": {},
   "source": [
    "#### Подготовка выборок\n",
    "Разделим данные на обучающую, валидационную и тестовую выборки:"
   ]
  },
  {
   "cell_type": "code",
   "execution_count": 14,
   "metadata": {},
   "outputs": [
    {
     "name": "stdout",
     "output_type": "stream",
     "text": [
      "features_train: (5454, 11) \n",
      " target_train: (5454,) \n",
      " features_valid: (1818, 11) \n",
      " target_valid: (1818,) \n",
      " features_test: (1819, 11) \n",
      " target_test: (1819,)\n"
     ]
    }
   ],
   "source": [
    "features = df_ohe.drop('Exited', axis=1)\n",
    "target = df_ohe['Exited']\n",
    "features_train, features_valid_test, target_train, target_valid_test = train_test_split(features,\n",
    "                                                                                        target,\n",
    "                                                                                        test_size=0.4,\n",
    "                                                                                        random_state=12345)\n",
    "features_valid, features_test, target_valid, target_test = train_test_split(features_valid_test,\n",
    "                                                                            target_valid_test,\n",
    "                                                                            test_size=0.5,\n",
    "                                                                            random_state=12345)\n",
    "print('features_train:',features_train.shape, '\\n',\n",
    "      'target_train:', target_train.shape, '\\n',\n",
    "      'features_valid:', features_valid.shape, '\\n',\n",
    "      'target_valid:', target_valid.shape, '\\n',\n",
    "      'features_test:', features_test.shape, '\\n',\n",
    "      'target_test:', target_test.shape)"
   ]
  },
  {
   "cell_type": "code",
   "execution_count": 44,
   "metadata": {},
   "outputs": [
    {
     "data": {
      "text/plain": [
       "pandas.core.indexes.numeric.Int64Index"
      ]
     },
     "execution_count": 44,
     "metadata": {},
     "output_type": "execute_result"
    }
   ],
   "source": [
    "target_valid.index"
   ]
  },
  {
   "cell_type": "markdown",
   "metadata": {},
   "source": [
    "Данные разделены на выборки следующим образом: обучающая - 60%, валидационная - 20%, тестовая - 20%."
   ]
  },
  {
   "cell_type": "markdown",
   "metadata": {},
   "source": [
    "#### Масштабирование признаков\n",
    "Проведем масштабирование численных признаков:"
   ]
  },
  {
   "cell_type": "code",
   "execution_count": 15,
   "metadata": {},
   "outputs": [],
   "source": [
    "pd.options.mode.chained_assignment = None\n",
    "\n",
    "numeric = ['CreditScore', 'Age', 'Tenure', 'Balance', 'NumOfProducts', 'HasCrCard',\n",
    "       'IsActiveMember', 'EstimatedSalary']\n",
    "\n",
    "scaler = StandardScaler()\n",
    "scaler.fit(features_train[numeric])\n",
    "features_train[numeric] = scaler.transform(features_train[numeric])\n",
    "features_valid[numeric] = scaler.transform(features_valid[numeric])\n",
    "features_test[numeric] = scaler.transform(features_test[numeric])"
   ]
  },
  {
   "cell_type": "code",
   "execution_count": 16,
   "metadata": {},
   "outputs": [
    {
     "data": {
      "text/html": [
       "<div>\n",
       "<style scoped>\n",
       "    .dataframe tbody tr th:only-of-type {\n",
       "        vertical-align: middle;\n",
       "    }\n",
       "\n",
       "    .dataframe tbody tr th {\n",
       "        vertical-align: top;\n",
       "    }\n",
       "\n",
       "    .dataframe thead th {\n",
       "        text-align: right;\n",
       "    }\n",
       "</style>\n",
       "<table border=\"1\" class=\"dataframe\">\n",
       "  <thead>\n",
       "    <tr style=\"text-align: right;\">\n",
       "      <th></th>\n",
       "      <th>CreditScore</th>\n",
       "      <th>Age</th>\n",
       "      <th>Tenure</th>\n",
       "      <th>Balance</th>\n",
       "      <th>NumOfProducts</th>\n",
       "      <th>HasCrCard</th>\n",
       "      <th>IsActiveMember</th>\n",
       "      <th>EstimatedSalary</th>\n",
       "      <th>Geography_Germany</th>\n",
       "      <th>Geography_Spain</th>\n",
       "      <th>Gender_Male</th>\n",
       "    </tr>\n",
       "  </thead>\n",
       "  <tbody>\n",
       "    <tr>\n",
       "      <td>9344</td>\n",
       "      <td>0.809075</td>\n",
       "      <td>-1.039327</td>\n",
       "      <td>-1.025995</td>\n",
       "      <td>0.554904</td>\n",
       "      <td>-0.908179</td>\n",
       "      <td>0.663468</td>\n",
       "      <td>-1.024127</td>\n",
       "      <td>0.019508</td>\n",
       "      <td>0</td>\n",
       "      <td>0</td>\n",
       "      <td>0</td>\n",
       "    </tr>\n",
       "    <tr>\n",
       "      <td>3796</td>\n",
       "      <td>-1.152518</td>\n",
       "      <td>-1.227561</td>\n",
       "      <td>0.696524</td>\n",
       "      <td>0.480609</td>\n",
       "      <td>-0.908179</td>\n",
       "      <td>-1.507231</td>\n",
       "      <td>-1.024127</td>\n",
       "      <td>0.056167</td>\n",
       "      <td>0</td>\n",
       "      <td>0</td>\n",
       "      <td>1</td>\n",
       "    </tr>\n",
       "    <tr>\n",
       "      <td>7462</td>\n",
       "      <td>-0.398853</td>\n",
       "      <td>0.090079</td>\n",
       "      <td>1.385532</td>\n",
       "      <td>-1.237830</td>\n",
       "      <td>-0.908179</td>\n",
       "      <td>0.663468</td>\n",
       "      <td>0.976442</td>\n",
       "      <td>0.848738</td>\n",
       "      <td>0</td>\n",
       "      <td>0</td>\n",
       "      <td>1</td>\n",
       "    </tr>\n",
       "    <tr>\n",
       "      <td>1508</td>\n",
       "      <td>-0.749875</td>\n",
       "      <td>-0.286389</td>\n",
       "      <td>0.352020</td>\n",
       "      <td>-1.237830</td>\n",
       "      <td>0.809300</td>\n",
       "      <td>0.663468</td>\n",
       "      <td>0.976442</td>\n",
       "      <td>-0.894953</td>\n",
       "      <td>0</td>\n",
       "      <td>0</td>\n",
       "      <td>1</td>\n",
       "    </tr>\n",
       "    <tr>\n",
       "      <td>4478</td>\n",
       "      <td>-1.028628</td>\n",
       "      <td>-0.756975</td>\n",
       "      <td>-0.336987</td>\n",
       "      <td>-1.237830</td>\n",
       "      <td>0.809300</td>\n",
       "      <td>-1.507231</td>\n",
       "      <td>0.976442</td>\n",
       "      <td>-1.284516</td>\n",
       "      <td>0</td>\n",
       "      <td>0</td>\n",
       "      <td>1</td>\n",
       "    </tr>\n",
       "  </tbody>\n",
       "</table>\n",
       "</div>"
      ],
      "text/plain": [
       "      CreditScore       Age    Tenure   Balance  NumOfProducts  HasCrCard  \\\n",
       "9344     0.809075 -1.039327 -1.025995  0.554904      -0.908179   0.663468   \n",
       "3796    -1.152518 -1.227561  0.696524  0.480609      -0.908179  -1.507231   \n",
       "7462    -0.398853  0.090079  1.385532 -1.237830      -0.908179   0.663468   \n",
       "1508    -0.749875 -0.286389  0.352020 -1.237830       0.809300   0.663468   \n",
       "4478    -1.028628 -0.756975 -0.336987 -1.237830       0.809300  -1.507231   \n",
       "\n",
       "      IsActiveMember  EstimatedSalary  Geography_Germany  Geography_Spain  \\\n",
       "9344       -1.024127         0.019508                  0                0   \n",
       "3796       -1.024127         0.056167                  0                0   \n",
       "7462        0.976442         0.848738                  0                0   \n",
       "1508        0.976442        -0.894953                  0                0   \n",
       "4478        0.976442        -1.284516                  0                0   \n",
       "\n",
       "      Gender_Male  \n",
       "9344            0  \n",
       "3796            1  \n",
       "7462            1  \n",
       "1508            1  \n",
       "4478            1  "
      ]
     },
     "execution_count": 16,
     "metadata": {},
     "output_type": "execute_result"
    }
   ],
   "source": [
    "features_train.head()"
   ]
  },
  {
   "cell_type": "markdown",
   "metadata": {},
   "source": [
    "**Выводы:**"
   ]
  },
  {
   "cell_type": "markdown",
   "metadata": {},
   "source": [
    "- признаки из колонок `Geography`\tи `Gender` преобразованы в численные;\n",
    "- данные разделены на выборки следующим образом: обучающая - 60%, валидационная - 20%, тестовая - 20%;\n",
    "- проведено масштабирование численных признаков."
   ]
  },
  {
   "cell_type": "markdown",
   "metadata": {},
   "source": [
    "## Исследование задачи"
   ]
  },
  {
   "cell_type": "markdown",
   "metadata": {},
   "source": [
    "Проверим баланс классов в выборке:"
   ]
  },
  {
   "cell_type": "code",
   "execution_count": 17,
   "metadata": {},
   "outputs": [
    {
     "data": {
      "text/plain": [
       "0    0.796062\n",
       "1    0.203938\n",
       "Name: Exited, dtype: float64"
      ]
     },
     "execution_count": 17,
     "metadata": {},
     "output_type": "execute_result"
    }
   ],
   "source": [
    "df['Exited'].value_counts(normalize=True)"
   ]
  },
  {
   "cell_type": "markdown",
   "metadata": {},
   "source": [
    "Выборка не сбалансирована. Примерно 20% клиентов уходят из банка. Изучим модели без учета дисбаланса классов."
   ]
  },
  {
   "cell_type": "markdown",
   "metadata": {},
   "source": [
    "### Логистическая регрессия"
   ]
  },
  {
   "cell_type": "markdown",
   "metadata": {},
   "source": [
    "Создадим собственную функцию, которая будет обучать модель логистической регрессии и возвращать модель и предсказания:"
   ]
  },
  {
   "cell_type": "code",
   "execution_count": 18,
   "metadata": {},
   "outputs": [],
   "source": [
    "def model_logistic_regression(features_train,\n",
    "             target_train,\n",
    "             features_valid,\n",
    "             random_state=12345,\n",
    "             class_weight=None,\n",
    "             solver='liblinear'):\n",
    "    '''Возвращает обученную модель логистической регрессии и предсказания'''\n",
    "    model = LogisticRegression(random_state=random_state, solver=solver, class_weight=class_weight)\n",
    "    model.fit(features_train, target_train)\n",
    "    predicted_valid = model.predict(features_valid)\n",
    "    return model, predicted_valid"
   ]
  },
  {
   "cell_type": "markdown",
   "metadata": {},
   "source": [
    "Создадим собственную функцию, которая будет рассчитывать и выводить на экран метрики:"
   ]
  },
  {
   "cell_type": "code",
   "execution_count": 19,
   "metadata": {},
   "outputs": [],
   "source": [
    "def metrics(target_valid, predicted_valid):\n",
    "    '''Рассчитывает и выводит на экран confusion matrix, recall, precision, f1 и accuracy'''\n",
    "    print ('confusion matrix:', confusion_matrix(target_valid, predicted_valid),\n",
    "           f'Recall = {recall_score(target_valid, predicted_valid)}',\n",
    "           f'Precision = {precision_score(target_valid, predicted_valid)}',\n",
    "           f'F1 = {f1_score(target_valid, predicted_valid)}',\n",
    "           f'Accuracy = {accuracy_score(target_valid, predicted_valid)}',\n",
    "           sep='\\n'\n",
    "          )"
   ]
  },
  {
   "cell_type": "markdown",
   "metadata": {},
   "source": [
    "Построим модель логистической регрессии без учета дисбаланса классов и посмотрим на метрики:"
   ]
  },
  {
   "cell_type": "code",
   "execution_count": 20,
   "metadata": {},
   "outputs": [
    {
     "name": "stdout",
     "output_type": "stream",
     "text": [
      "confusion matrix:\n",
      "[[1393   48]\n",
      " [ 301   76]]\n",
      "Recall = 0.20159151193633953\n",
      "Precision = 0.6129032258064516\n",
      "F1 = 0.3033932135728543\n",
      "Accuracy = 0.8080308030803081\n"
     ]
    }
   ],
   "source": [
    "model_lr, predicted_valid_lr = model_logistic_regression(features_train,\n",
    "                                                         target_train,\n",
    "                                                         features_valid\n",
    "                                                        )\n",
    "metrics(target_valid, predicted_valid_lr)"
   ]
  },
  {
   "cell_type": "markdown",
   "metadata": {},
   "source": [
    "Accuracy достаточно высокий, составляет примерно 0.81. Полнота низкая (0.20), среди всех клиентов, которые ушли из банка, модель правильно предсказала только 20%. Точность выше, но также далека от единицы (0.61). Из предсказанных моделью уходов клиентов, фактически свершилось только 61%. F1-мера, соответственно, показывает, что модель плохо работает."
   ]
  },
  {
   "cell_type": "markdown",
   "metadata": {},
   "source": [
    "### Решающее дерево"
   ]
  },
  {
   "cell_type": "markdown",
   "metadata": {},
   "source": [
    "Создадим собственную функцию, которая будет обучать модель решающего дерева и возвращать модель с наилучшими параметрами и предсказания:"
   ]
  },
  {
   "cell_type": "code",
   "execution_count": 21,
   "metadata": {},
   "outputs": [],
   "source": [
    "def model_decision_tree(features_train,\n",
    "                        target_train,\n",
    "                        features_valid,\n",
    "                        max_depth_start,\n",
    "                        max_depth_end,\n",
    "                        random_state=12345,\n",
    "                        class_weight=None):\n",
    "    '''Возвращает обученную модель решающего дерева и предсказания'''\n",
    "    parameters = {'max_depth': range(max_depth_start, max_depth_end, 1),\n",
    "                  'min_samples_leaf': range(1,8),\n",
    "                  'min_samples_split': range(2,10,2)\n",
    "                 }\n",
    "    model = DecisionTreeClassifier(random_state=random_state, class_weight=class_weight)\n",
    "    grid = GridSearchCV(model,\n",
    "                        parameters,\n",
    "                        cv=5,\n",
    "                        scoring='f1'\n",
    "                       )\n",
    "    grid.fit(features_train, target_train)\n",
    "    print(f'max depth = {grid.best_params_[\"max_depth\"]}',\n",
    "          f'min samples leaf = {grid.best_params_[\"min_samples_leaf\"]}',\n",
    "          f'min samples split = {grid.best_params_[\"min_samples_split\"]}',\n",
    "          sep='\\n'\n",
    "         )\n",
    "    model = DecisionTreeClassifier(random_state=random_state,\n",
    "                                   max_depth=grid.best_params_[\"max_depth\"],\n",
    "                                   min_samples_leaf=grid.best_params_[\"min_samples_leaf\"],\n",
    "                                   min_samples_split=grid.best_params_[\"min_samples_split\"],\n",
    "                                   class_weight=class_weight\n",
    "                                  )\n",
    "    model.fit(features_train, target_train)\n",
    "    predictions = model.predict(features_valid)\n",
    "    return model, predictions"
   ]
  },
  {
   "cell_type": "markdown",
   "metadata": {},
   "source": [
    "Построим модель решающего леса без учета дисбаланса классов и посмотрим на метрики:"
   ]
  },
  {
   "cell_type": "code",
   "execution_count": 22,
   "metadata": {},
   "outputs": [
    {
     "name": "stdout",
     "output_type": "stream",
     "text": [
      "max depth = 7\n",
      "min samples leaf = 2\n",
      "min samples split = 6\n",
      "confusion matrix:\n",
      "[[1376   65]\n",
      " [ 197  180]]\n",
      "Recall = 0.47745358090185674\n",
      "Precision = 0.7346938775510204\n",
      "F1 = 0.5787781350482315\n",
      "Accuracy = 0.8558855885588559\n"
     ]
    }
   ],
   "source": [
    "model_tree, predicted_valid_tree = model_decision_tree(features_train,\n",
    "                                                       target_train,\n",
    "                                                       features_valid,\n",
    "                                                       max_depth_start=1,\n",
    "                                                       max_depth_end=12)\n",
    "metrics(target_valid, predicted_valid_tree)"
   ]
  },
  {
   "cell_type": "markdown",
   "metadata": {},
   "source": [
    "Accuracy также достаточно высокий, составляет примерно 0.86. Показатели полноты (0.48), точности (0.73) и F1-меры (0.58) выше, чем в логистической регрессии, однако все равно далеки от 1. Модель работает плохо."
   ]
  },
  {
   "cell_type": "markdown",
   "metadata": {},
   "source": [
    "### Случайный лес"
   ]
  },
  {
   "cell_type": "markdown",
   "metadata": {},
   "source": [
    "Создадим собственную функцию, которая будет обучать модель случайного леса и возвращать модель с наилучшими параметрами и предсказания:"
   ]
  },
  {
   "cell_type": "code",
   "execution_count": 23,
   "metadata": {},
   "outputs": [],
   "source": [
    "def model_random_forest(features_train,\n",
    "                        target_train,\n",
    "                        features_valid,\n",
    "                        n_estimators_start,\n",
    "                        n_estimators_end,\n",
    "                        n_estimators_step,\n",
    "                        max_depth_start,\n",
    "                        max_depth_end,\n",
    "                        random_state=12345,\n",
    "                        class_weight=None):\n",
    "    '''Возвращает обученную модель случайного леса и предсказания'''\n",
    "    parameters = {'n_estimators': range(n_estimators_start, n_estimators_end, n_estimators_step),\n",
    "                  'max_depth': range(max_depth_start, max_depth_end, 1),\n",
    "#                  'min_samples_leaf': range(1,8),\n",
    "#                  'min_samples_split': range(2,10,2)\n",
    "                 }\n",
    "    model = RandomForestClassifier(random_state=random_state, class_weight=class_weight)\n",
    "    grid = GridSearchCV(model,\n",
    "                        parameters,\n",
    "                        cv=5,\n",
    "                        scoring='f1'\n",
    "                       )\n",
    "    grid.fit(features_train, target_train)\n",
    "    print(f'n estimators = {grid.best_params_[\"n_estimators\"]}',\n",
    "          f'max depth = {grid.best_params_[\"max_depth\"]}',\n",
    "#          f'min samples leaf = {grid.best_params_[\"min_samples_leaf\"]}',\n",
    "#          f'min samples split = {grid.best_params_[\"min_samples_split\"]}',\n",
    "          sep='\\n'\n",
    "         )\n",
    "    model = RandomForestClassifier(random_state=random_state,\n",
    "                                   n_estimators=grid.best_params_[\"n_estimators\"],\n",
    "                                   max_depth=grid.best_params_[\"max_depth\"],\n",
    "#                                   min_samples_leaf=grid.best_params_[\"min_samples_leaf\"],\n",
    "#                                   min_samples_split=grid.best_params_[\"min_samples_split\"],\n",
    "                                   class_weight=class_weight\n",
    "                                  )\n",
    "    model.fit(features_train, target_train)\n",
    "    predictions = model.predict(features_valid)\n",
    "    return model, predictions"
   ]
  },
  {
   "cell_type": "markdown",
   "metadata": {},
   "source": [
    "Построим модель случайного леса без учета дисбаланса классов и посмотрим на метрики:"
   ]
  },
  {
   "cell_type": "code",
   "execution_count": 24,
   "metadata": {},
   "outputs": [
    {
     "name": "stdout",
     "output_type": "stream",
     "text": [
      "n estimators = 44\n",
      "max depth = 11\n",
      "confusion matrix:\n",
      "[[1400   41]\n",
      " [ 209  168]]\n",
      "Recall = 0.44562334217506633\n",
      "Precision = 0.8038277511961722\n",
      "F1 = 0.5733788395904437\n",
      "Accuracy = 0.8624862486248625\n"
     ]
    }
   ],
   "source": [
    "model_rf, predicted_valid_rf = model_random_forest(features_train,\n",
    "                                                   target_train,\n",
    "                                                   features_valid,\n",
    "                                                   n_estimators_start=40,\n",
    "                                                   n_estimators_end=45,\n",
    "                                                   n_estimators_step=4,\n",
    "                                                   max_depth_start=10,\n",
    "                                                   max_depth_end=12)\n",
    "metrics(target_valid, predicted_valid_rf)"
   ]
  },
  {
   "cell_type": "markdown",
   "metadata": {},
   "source": [
    "Accuracy достаточно высокий, составляет примерно 0.86. Показатели по уровню близки к показателям модели решающего дерева. Полнота 0.45, точность 0.80 и F1-мера 0.57, также далеки от 1. Модель работает плохо."
   ]
  },
  {
   "cell_type": "markdown",
   "metadata": {},
   "source": [
    "**Выводы:**"
   ]
  },
  {
   "cell_type": "markdown",
   "metadata": {},
   "source": [
    "Все три модели без учета дисбаланса классов работают плохо. F1 - мера не поднимается выше 0.58. Показатель Accuracy не отражает действительность. Необходимо устранить дисбаланс классов."
   ]
  },
  {
   "cell_type": "markdown",
   "metadata": {},
   "source": [
    "## Борьба с дисбалансом"
   ]
  },
  {
   "cell_type": "markdown",
   "metadata": {},
   "source": [
    "Проведем взвешивание классов, upsampling и downsampling."
   ]
  },
  {
   "cell_type": "markdown",
   "metadata": {},
   "source": [
    "### Взвешивание классов"
   ]
  },
  {
   "cell_type": "markdown",
   "metadata": {},
   "source": [
    "#### Логистическая регрессия"
   ]
  },
  {
   "cell_type": "code",
   "execution_count": 25,
   "metadata": {},
   "outputs": [
    {
     "name": "stdout",
     "output_type": "stream",
     "text": [
      "confusion matrix:\n",
      "[[1013  428]\n",
      " [ 102  275]]\n",
      "Recall = 0.7294429708222812\n",
      "Precision = 0.3911806543385491\n",
      "F1 = 0.5092592592592593\n",
      "Accuracy = 0.7084708470847084\n"
     ]
    }
   ],
   "source": [
    "model_lr, predicted_valid_lr = model_logistic_regression(features_train,\n",
    "                                                         target_train,\n",
    "                                                         features_valid,\n",
    "                                                         class_weight='balanced'\n",
    "                                                        )\n",
    "metrics(target_valid, predicted_valid_lr)"
   ]
  },
  {
   "cell_type": "markdown",
   "metadata": {},
   "source": [
    "Полнота выросла, точность снизилась, F1-мера (0.51) увеличилась, однако, все равно не достигла желаемого уровня."
   ]
  },
  {
   "cell_type": "markdown",
   "metadata": {},
   "source": [
    "#### Решающее дерево"
   ]
  },
  {
   "cell_type": "code",
   "execution_count": 26,
   "metadata": {},
   "outputs": [
    {
     "name": "stdout",
     "output_type": "stream",
     "text": [
      "max depth = 5\n",
      "min samples leaf = 5\n",
      "min samples split = 2\n",
      "confusion matrix:\n",
      "[[1146  295]\n",
      " [ 106  271]]\n",
      "Recall = 0.7188328912466844\n",
      "Precision = 0.4787985865724382\n",
      "F1 = 0.574761399787911\n",
      "Accuracy = 0.7794279427942794\n"
     ]
    }
   ],
   "source": [
    "model_tree, predicted_valid_tree = model_decision_tree(features_train,\n",
    "                                                       target_train,\n",
    "                                                       features_valid,\n",
    "                                                       class_weight='balanced',\n",
    "                                                       max_depth_start=5,\n",
    "                                                       max_depth_end=6)\n",
    "metrics(target_valid, predicted_valid_tree)"
   ]
  },
  {
   "cell_type": "markdown",
   "metadata": {},
   "source": [
    "Полнота выросла, точность снизилась, F1-мера (0.57) почти не изменилась и по-прежнему далека от 1."
   ]
  },
  {
   "cell_type": "markdown",
   "metadata": {},
   "source": [
    "#### Случайный лес"
   ]
  },
  {
   "cell_type": "code",
   "execution_count": 27,
   "metadata": {},
   "outputs": [
    {
     "name": "stdout",
     "output_type": "stream",
     "text": [
      "n estimators = 27\n",
      "max depth = 10\n",
      "confusion matrix:\n",
      "[[1302  139]\n",
      " [ 131  246]]\n",
      "Recall = 0.6525198938992043\n",
      "Precision = 0.638961038961039\n",
      "F1 = 0.6456692913385826\n",
      "Accuracy = 0.8514851485148515\n"
     ]
    }
   ],
   "source": [
    "model_rf, predicted_valid_rf = model_random_forest(features_train,\n",
    "                                                   target_train,\n",
    "                                                   features_valid,\n",
    "                                                   n_estimators_start=25,\n",
    "                                                   n_estimators_end=30,\n",
    "                                                   n_estimators_step=1,\n",
    "                                                   max_depth_start=10,\n",
    "                                                   max_depth_end=11,\n",
    "                                                  class_weight='balanced')\n",
    "metrics(target_valid, predicted_valid_rf)"
   ]
  },
  {
   "cell_type": "markdown",
   "metadata": {},
   "source": [
    "Здесь наблюдается та же картина: полнота выросла, точность снизилась, F1-мера выросла и составляет примерно 0.65. "
   ]
  },
  {
   "cell_type": "markdown",
   "metadata": {},
   "source": [
    "### Upsampling"
   ]
  },
  {
   "cell_type": "markdown",
   "metadata": {},
   "source": [
    "Разделим обучающую выборку на отрицательные и положительные объекты:"
   ]
  },
  {
   "cell_type": "code",
   "execution_count": 28,
   "metadata": {},
   "outputs": [
    {
     "name": "stdout",
     "output_type": "stream",
     "text": [
      "(4328, 11)\n",
      "(1126, 11)\n",
      "(4328,)\n",
      "(1126,)\n"
     ]
    }
   ],
   "source": [
    "features_zeros = features_train[target_train == 0]\n",
    "features_ones = features_train[target_train == 1]\n",
    "target_zeros  = target_train[target_train == 0]\n",
    "target_ones = target_train[target_train == 1]\n",
    "\n",
    "print(features_zeros.shape)\n",
    "print(features_ones.shape)\n",
    "print(target_zeros.shape)\n",
    "print(target_ones.shape)"
   ]
  },
  {
   "cell_type": "markdown",
   "metadata": {},
   "source": [
    "Отрицательных ответов почти в 4 раза больше, чем положительных. Увеличим количество объектов с положительными ответами в 4 раза, объединим обекты обратно и перемешаем:"
   ]
  },
  {
   "cell_type": "code",
   "execution_count": 29,
   "metadata": {},
   "outputs": [
    {
     "name": "stdout",
     "output_type": "stream",
     "text": [
      "(8832, 11)\n",
      "(8832,)\n"
     ]
    }
   ],
   "source": [
    "features_upsampled = pd.concat([features_zeros] + [features_ones] * 4)\n",
    "target_upsampled = pd.concat([target_zeros] + [target_ones] * 4)\n",
    "\n",
    "features_upsampled = shuffle(features_upsampled, random_state=12345)\n",
    "target_upsampled = shuffle(target_upsampled, random_state=12345)\n",
    "\n",
    "print(features_upsampled.shape)\n",
    "print(target_upsampled.shape)"
   ]
  },
  {
   "cell_type": "markdown",
   "metadata": {},
   "source": [
    "Обучим модели на увеличенной выборке."
   ]
  },
  {
   "cell_type": "markdown",
   "metadata": {},
   "source": [
    "#### Логистическая регрессия"
   ]
  },
  {
   "cell_type": "code",
   "execution_count": 30,
   "metadata": {},
   "outputs": [
    {
     "name": "stdout",
     "output_type": "stream",
     "text": [
      "confusion matrix:\n",
      "[[994 447]\n",
      " [ 97 280]]\n",
      "Recall = 0.7427055702917772\n",
      "Precision = 0.38514442916093533\n",
      "F1 = 0.5072463768115941\n",
      "Accuracy = 0.7007700770077008\n"
     ]
    }
   ],
   "source": [
    "model_logistic_regression_up, predicted_valid_lr = model_logistic_regression(features_upsampled,\n",
    "                                                         target_upsampled,\n",
    "                                                         features_valid\n",
    "                                                        )\n",
    "metrics(target_valid, predicted_valid_lr)"
   ]
  },
  {
   "cell_type": "markdown",
   "metadata": {},
   "source": [
    "Показатели похожи на полученные при взвешивании классов. F1-мера (0.51) выше, чем у модели, построенной без учета дисбаланса."
   ]
  },
  {
   "cell_type": "markdown",
   "metadata": {},
   "source": [
    "#### Решающее дерево"
   ]
  },
  {
   "cell_type": "code",
   "execution_count": 31,
   "metadata": {},
   "outputs": [
    {
     "name": "stdout",
     "output_type": "stream",
     "text": [
      "max depth = 5\n",
      "min samples leaf = 7\n",
      "min samples split = 2\n",
      "confusion matrix:\n",
      "[[1146  295]\n",
      " [ 106  271]]\n",
      "Recall = 0.7188328912466844\n",
      "Precision = 0.4787985865724382\n",
      "F1 = 0.574761399787911\n",
      "Accuracy = 0.7794279427942794\n"
     ]
    }
   ],
   "source": [
    "model_tree_up, predicted_valid_tree = model_decision_tree(features_upsampled,\n",
    "                                                          target_upsampled,\n",
    "                                                          features_valid,\n",
    "                                                          max_depth_start=5,\n",
    "                                                          max_depth_end=6)\n",
    "metrics(target_valid, predicted_valid_tree)"
   ]
  },
  {
   "cell_type": "markdown",
   "metadata": {},
   "source": [
    "Показатели совпадают с показателями модели решающего дерева со взвешиванием классов. F1-мера составляет примерно 0.57."
   ]
  },
  {
   "cell_type": "markdown",
   "metadata": {},
   "source": [
    "#### Случайный лес"
   ]
  },
  {
   "cell_type": "code",
   "execution_count": 32,
   "metadata": {},
   "outputs": [
    {
     "name": "stdout",
     "output_type": "stream",
     "text": [
      "n estimators = 67\n",
      "max depth = 12\n",
      "confusion matrix:\n",
      "[[1295  146]\n",
      " [ 131  246]]\n",
      "Recall = 0.6525198938992043\n",
      "Precision = 0.6275510204081632\n",
      "F1 = 0.6397919375812745\n",
      "Accuracy = 0.8476347634763476\n"
     ]
    }
   ],
   "source": [
    "model_rf_up, predicted_valid_rf = model_random_forest(features_upsampled,\n",
    "                                                   target_upsampled,\n",
    "                                                   features_valid,\n",
    "                                                   n_estimators_start=67,\n",
    "                                                   n_estimators_end=68,\n",
    "                                                   n_estimators_step=1,\n",
    "                                                   max_depth_start=12,\n",
    "                                                   max_depth_end=13,\n",
    "                                                  )\n",
    "metrics(target_valid, predicted_valid_rf)"
   ]
  },
  {
   "cell_type": "markdown",
   "metadata": {},
   "source": [
    "Полнота выросла, точность снизилась, F1-мера выросла и составляет примерно 0.64. В целом показатели очень близки к показателям модели случайного леса со взвешиванием классов."
   ]
  },
  {
   "cell_type": "markdown",
   "metadata": {},
   "source": [
    "### Downsampling"
   ]
  },
  {
   "cell_type": "markdown",
   "metadata": {},
   "source": [
    "Соотношение объектов положительного класса к отрицательному составляет примерно 0.26. Оставим среди объектов отрицательного класса 26%, объединим с объектами положительного класса и перемешаем:"
   ]
  },
  {
   "cell_type": "code",
   "execution_count": 33,
   "metadata": {},
   "outputs": [
    {
     "name": "stdout",
     "output_type": "stream",
     "text": [
      "(2251, 11)\n",
      "(2251,)\n"
     ]
    }
   ],
   "source": [
    "features_sample = features_zeros.sample(frac=0.26, random_state=12345)\n",
    "target_sample = target_zeros.sample(frac=0.26, random_state=12345)\n",
    "features_downsampled = shuffle(pd.concat([features_sample, features_ones]), random_state=12345)\n",
    "target_downsampled = shuffle(pd.concat([target_sample, target_ones]), random_state=12345)\n",
    "\n",
    "print(features_downsampled.shape)\n",
    "print(target_downsampled.shape)"
   ]
  },
  {
   "cell_type": "markdown",
   "metadata": {},
   "source": [
    "Обучим модели на уменьшенной выборке."
   ]
  },
  {
   "cell_type": "markdown",
   "metadata": {},
   "source": [
    "#### Логистическая регрессия"
   ]
  },
  {
   "cell_type": "code",
   "execution_count": 34,
   "metadata": {},
   "outputs": [
    {
     "name": "stdout",
     "output_type": "stream",
     "text": [
      "confusion matrix:\n",
      "[[998 443]\n",
      " [102 275]]\n",
      "Recall = 0.7294429708222812\n",
      "Precision = 0.383008356545961\n",
      "F1 = 0.502283105022831\n",
      "Accuracy = 0.7002200220022002\n"
     ]
    }
   ],
   "source": [
    "model_logistic_regression_down, predicted_valid_lr = model_logistic_regression(features_downsampled,\n",
    "                                                         target_downsampled,\n",
    "                                                         features_valid\n",
    "                                                        )\n",
    "metrics(target_valid, predicted_valid_lr)"
   ]
  },
  {
   "cell_type": "markdown",
   "metadata": {},
   "source": [
    "Показатели похожи на полученные при взвешивании классов и upsampling. F1-мера (0.50) выше, чем у модели, построенной без учета дисбаланса."
   ]
  },
  {
   "cell_type": "markdown",
   "metadata": {},
   "source": [
    "#### Решающее дерево"
   ]
  },
  {
   "cell_type": "code",
   "execution_count": 35,
   "metadata": {},
   "outputs": [
    {
     "name": "stdout",
     "output_type": "stream",
     "text": [
      "max depth = 7\n",
      "min samples leaf = 7\n",
      "min samples split = 2\n",
      "confusion matrix:\n",
      "[[1089  352]\n",
      " [  91  286]]\n",
      "Recall = 0.7586206896551724\n",
      "Precision = 0.4482758620689655\n",
      "F1 = 0.5635467980295567\n",
      "Accuracy = 0.7563256325632564\n"
     ]
    }
   ],
   "source": [
    "model_tree_down, predicted_valid_tree = model_decision_tree(features_downsampled,\n",
    "                                                            target_downsampled,\n",
    "                                                            features_valid,\n",
    "                                                            max_depth_start=7,\n",
    "                                                            max_depth_end=15)\n",
    "metrics(target_valid, predicted_valid_tree)"
   ]
  },
  {
   "cell_type": "markdown",
   "metadata": {},
   "source": [
    "Показатели похожи на полученные при взвешивании классов. F1-мера (0.56) ниже, чем у модели, построенной без учета дисбаланса."
   ]
  },
  {
   "cell_type": "markdown",
   "metadata": {},
   "source": [
    "#### Случайный лес"
   ]
  },
  {
   "cell_type": "code",
   "execution_count": 36,
   "metadata": {},
   "outputs": [
    {
     "name": "stdout",
     "output_type": "stream",
     "text": [
      "n estimators = 55\n",
      "max depth = 8\n",
      "confusion matrix:\n",
      "[[1133  308]\n",
      " [  81  296]]\n",
      "Recall = 0.7851458885941645\n",
      "Precision = 0.4900662251655629\n",
      "F1 = 0.6034658511722731\n",
      "Accuracy = 0.786028602860286\n"
     ]
    }
   ],
   "source": [
    "model_rf_down, predicted_valid_rf = model_random_forest(features_downsampled,\n",
    "                                                   target_downsampled,\n",
    "                                                   features_valid,\n",
    "                                                   n_estimators_start=55,\n",
    "                                                   n_estimators_end=59,\n",
    "                                                   n_estimators_step=5,\n",
    "                                                   max_depth_start=8,\n",
    "                                                   max_depth_end=9,\n",
    "                                                  )\n",
    "metrics(target_valid, predicted_valid_rf)"
   ]
  },
  {
   "cell_type": "markdown",
   "metadata": {},
   "source": [
    "По сравнению с моделями, полученными при взвешивании классов и upsampling, возросла полнота и снизилась точность. F1-мера (0.60) выше, чем на несбалансированной выборке, но ниже, чем при взвешивании классов и upsampling."
   ]
  },
  {
   "cell_type": "markdown",
   "metadata": {},
   "source": [
    "**Выводы:**"
   ]
  },
  {
   "cell_type": "markdown",
   "metadata": {},
   "source": [
    "- на сбалансированных выборках показатели F1-меры всех моделей выше, чем на несбалансированных;\n",
    "- во всех моделях без учета дисбаланса классов точность выше, а полнота ниже, чем у моделей с учетом дисбаланса;\n",
    "- наилучшие результаты F1-меры на валидационной выборке показывает модель случайного леса (0.646) с глубиной 10 и количеством оценщиков 27 и учетом дисбаланса методом взвешивания классов."
   ]
  },
  {
   "cell_type": "markdown",
   "metadata": {},
   "source": [
    "## Тестирование модели"
   ]
  },
  {
   "cell_type": "markdown",
   "metadata": {},
   "source": [
    "Протестируем самые удачные модели случайного леса с учетом дисбаланса методами взвешивания классов, upsampling и downsampling. Для каждой модели рассчитаем метрику ROC-AUC и построим ROC-кривую:"
   ]
  },
  {
   "cell_type": "code",
   "execution_count": 37,
   "metadata": {},
   "outputs": [
    {
     "name": "stdout",
     "output_type": "stream",
     "text": [
      "confusion matrix:\n",
      "[[1308  160]\n",
      " [ 139  212]]\n",
      "Recall = 0.603988603988604\n",
      "Precision = 0.5698924731182796\n",
      "F1 = 0.5864453665283541\n",
      "Accuracy = 0.8356239692138537\n"
     ]
    }
   ],
   "source": [
    "# cлучайный лес со взвешиванием классов\n",
    "predictions_test = model_rf.predict(features_test)\n",
    "metrics(target_test, predictions_test)"
   ]
  },
  {
   "cell_type": "code",
   "execution_count": 38,
   "metadata": {},
   "outputs": [
    {
     "name": "stdout",
     "output_type": "stream",
     "text": [
      "ROC-AUC = 0.8516451632936648\n"
     ]
    },
    {
     "data": {
      "image/png": "[encoded data removed]",
      "text/plain": [
       "<Figure size 432x288 with 1 Axes>"
      ]
     },
     "metadata": {
      "needs_background": "light"
     },
     "output_type": "display_data"
    }
   ],
   "source": [
    "probabilities_test = model_rf.predict_proba(features_test)\n",
    "fpr, tpr, thresholds = roc_curve(target_test, probabilities_test[:, 1])\n",
    "\n",
    "plt.figure()\n",
    "plt.plot([0, 1], [0, 1], linestyle='--')\n",
    "plt.plot(fpr, tpr)\n",
    "plt.xlim([0.0, 1.0])\n",
    "plt.ylim([0.0, 1.0])\n",
    "plt.xlabel('False Positive Rate')\n",
    "plt.ylabel('True Positive Rate')\n",
    "plt.title('ROC-кривая')\n",
    "\n",
    "print('ROC-AUC =', roc_auc_score(target_test, probabilities_test[:, 1]))"
   ]
  },
  {
   "cell_type": "code",
   "execution_count": 39,
   "metadata": {},
   "outputs": [
    {
     "name": "stdout",
     "output_type": "stream",
     "text": [
      "confusion matrix:\n",
      "[[1300  168]\n",
      " [ 126  225]]\n",
      "Recall = 0.6410256410256411\n",
      "Precision = 0.5725190839694656\n",
      "F1 = 0.6048387096774193\n",
      "Accuracy = 0.8383727322704783\n"
     ]
    }
   ],
   "source": [
    "# cлучайный лес upsampling\n",
    "predictions_test = model_rf_up.predict(features_test)\n",
    "metrics(target_test, predictions_test)"
   ]
  },
  {
   "cell_type": "code",
   "execution_count": 40,
   "metadata": {},
   "outputs": [
    {
     "name": "stdout",
     "output_type": "stream",
     "text": [
      "ROC-AUC = 0.8504370541155282\n"
     ]
    },
    {
     "data": {
      "image/png": "[encoded data removed]",
      "text/plain": [
       "<Figure size 432x288 with 1 Axes>"
      ]
     },
     "metadata": {
      "needs_background": "light"
     },
     "output_type": "display_data"
    }
   ],
   "source": [
    "probabilities_test = model_rf_up.predict_proba(features_test)\n",
    "fpr, tpr, thresholds = roc_curve(target_test, probabilities_test[:, 1])\n",
    "\n",
    "plt.figure()\n",
    "plt.plot([0, 1], [0, 1], linestyle='--')\n",
    "plt.plot(fpr, tpr)\n",
    "plt.xlim([0.0, 1.0])\n",
    "plt.ylim([0.0, 1.0])\n",
    "plt.xlabel('False Positive Rate')\n",
    "plt.ylabel('True Positive Rate')\n",
    "plt.title('ROC-кривая')\n",
    "\n",
    "print('ROC-AUC =', roc_auc_score(target_test, probabilities_test[:, 1]))"
   ]
  },
  {
   "cell_type": "code",
   "execution_count": 41,
   "metadata": {},
   "outputs": [
    {
     "name": "stdout",
     "output_type": "stream",
     "text": [
      "confusion matrix:\n",
      "[[1150  318]\n",
      " [  83  268]]\n",
      "Recall = 0.7635327635327636\n",
      "Precision = 0.45733788395904434\n",
      "F1 = 0.5720384204909286\n",
      "Accuracy = 0.7795492028587135\n"
     ]
    }
   ],
   "source": [
    "# cлучайный лес downsampling\n",
    "predictions_test = model_rf_down.predict(features_test)\n",
    "metrics(target_test, predictions_test)"
   ]
  },
  {
   "cell_type": "code",
   "execution_count": 42,
   "metadata": {},
   "outputs": [
    {
     "name": "stdout",
     "output_type": "stream",
     "text": [
      "ROC-AUC = 0.8568570142139624\n"
     ]
    },
    {
     "data": {
      "image/png": "[encoded data removed]",
      "text/plain": [
       "<Figure size 432x288 with 1 Axes>"
      ]
     },
     "metadata": {
      "needs_background": "light"
     },
     "output_type": "display_data"
    }
   ],
   "source": [
    "probabilities_test = model_rf_down.predict_proba(features_test)\n",
    "fpr, tpr, thresholds = roc_curve(target_test, probabilities_test[:, 1])\n",
    "\n",
    "plt.figure()\n",
    "plt.plot([0, 1], [0, 1], linestyle='--')\n",
    "plt.plot(fpr, tpr)\n",
    "plt.xlim([0.0, 1.0])\n",
    "plt.ylim([0.0, 1.0])\n",
    "plt.xlabel('False Positive Rate')\n",
    "plt.ylabel('True Positive Rate')\n",
    "plt.title('ROC-кривая')\n",
    "\n",
    "print('ROC-AUC =', roc_auc_score(target_test, probabilities_test[:, 1]))"
   ]
  },
  {
   "cell_type": "markdown",
   "metadata": {},
   "source": [
    "**Выводы:**"
   ]
  },
  {
   "cell_type": "markdown",
   "metadata": {},
   "source": [
    "На тестовой выборке наибольшую F1- меру (0.60) показала модель случайного леса с учетом дисбаланса методом upsampling. Метрика ROC-AUC для нее составляет примерно 0.85."
   ]
  },
  {
   "cell_type": "markdown",
   "metadata": {},
   "source": [
    "## Выводы:"
   ]
  },
  {
   "cell_type": "markdown",
   "metadata": {},
   "source": [
    "- модели классификации без учета дисбаланса классов показывают плохой результат на имеющейся выборке. Показатель Accuracy не отражает действительность;\n",
    "- после устранения дисбаланса классов лучшие результаты F1-меры при каждом методе устранения дисбаланса дает модель Случайного леса. Наибольшее значение F1-меры (0.645) у модели случайного леса со взвешиванием классов, глубиной 10 и количеством оценщиков 27;\n",
    "- на тестовой выборке наибольшую F1- меру (0.60) показала модель случайного леса с учетом дисбаланса методом upsampling. Метрика ROC-AUC для нее составляет примерно 0.85."
   ]
  },
  {
   "cell_type": "code",
   "execution_count": null,
   "metadata": {},
   "outputs": [],
   "source": []
  }
 ],
 "metadata": {
  "ExecuteTimeLog": [
   {
    "duration": 1269,
    "start_time": "2022-03-14T19:20:14.092Z"
   },
   {
    "duration": 31,
    "start_time": "2022-03-14T19:20:15.364Z"
   },
   {
    "duration": 74,
    "start_time": "2022-03-14T19:20:15.398Z"
   },
   {
    "duration": 732,
    "start_time": "2022-03-14T19:20:15.474Z"
   },
   {
    "duration": 396,
    "start_time": "2022-03-14T19:20:16.209Z"
   },
   {
    "duration": 33,
    "start_time": "2022-03-14T19:20:16.607Z"
   },
   {
    "duration": 9,
    "start_time": "2022-03-14T19:20:16.641Z"
   },
   {
    "duration": 13,
    "start_time": "2022-03-14T19:20:16.651Z"
   },
   {
    "duration": 234,
    "start_time": "2022-03-14T19:20:16.667Z"
   },
   {
    "duration": 5,
    "start_time": "2022-03-14T19:20:16.903Z"
   },
   {
    "duration": 6,
    "start_time": "2022-03-14T19:20:16.910Z"
   },
   {
    "duration": 27,
    "start_time": "2022-03-14T19:20:16.917Z"
   },
   {
    "duration": 14,
    "start_time": "2022-03-14T19:20:16.946Z"
   },
   {
    "duration": 17,
    "start_time": "2022-03-14T19:20:16.962Z"
   },
   {
    "duration": 65,
    "start_time": "2022-03-14T19:20:16.981Z"
   },
   {
    "duration": 14,
    "start_time": "2022-03-14T19:20:17.048Z"
   },
   {
    "duration": 8,
    "start_time": "2022-03-14T19:20:17.065Z"
   },
   {
    "duration": 60,
    "start_time": "2022-03-14T19:20:17.075Z"
   },
   {
    "duration": 105,
    "start_time": "2022-03-14T19:20:17.137Z"
   },
   {
    "duration": 145,
    "start_time": "2022-03-14T19:20:17.244Z"
   },
   {
    "duration": 11,
    "start_time": "2022-03-14T19:20:17.391Z"
   },
   {
    "duration": 8863,
    "start_time": "2022-03-14T19:20:17.404Z"
   },
   {
    "duration": 13,
    "start_time": "2022-03-14T19:20:26.269Z"
   },
   {
    "duration": 148,
    "start_time": "2022-03-14T19:20:26.284Z"
   },
   {
    "duration": 171,
    "start_time": "2022-03-14T19:20:26.434Z"
   },
   {
    "duration": 13393,
    "start_time": "2022-03-14T19:20:26.606Z"
   },
   {
    "duration": 9,
    "start_time": "2022-03-14T19:20:40.002Z"
   },
   {
    "duration": 21,
    "start_time": "2022-03-14T19:20:40.013Z"
   },
   {
    "duration": 107,
    "start_time": "2022-03-14T19:20:40.036Z"
   },
   {
    "duration": 193,
    "start_time": "2022-03-14T19:20:40.232Z"
   },
   {
    "duration": 8545,
    "start_time": "2022-03-14T19:20:40.432Z"
   },
   {
    "duration": 10,
    "start_time": "2022-03-14T19:20:48.979Z"
   },
   {
    "duration": 46,
    "start_time": "2022-03-14T19:20:48.991Z"
   },
   {
    "duration": 170,
    "start_time": "2022-03-14T19:20:49.040Z"
   },
   {
    "duration": 7212,
    "start_time": "2022-03-14T19:20:49.212Z"
   },
   {
    "duration": 26,
    "start_time": "2022-03-14T19:20:56.426Z"
   },
   {
    "duration": 225,
    "start_time": "2022-03-14T19:20:56.454Z"
   },
   {
    "duration": 51,
    "start_time": "2022-03-14T19:20:56.681Z"
   },
   {
    "duration": 226,
    "start_time": "2022-03-14T19:20:56.734Z"
   },
   {
    "duration": 28,
    "start_time": "2022-03-14T19:20:56.962Z"
   },
   {
    "duration": 225,
    "start_time": "2022-03-14T19:20:56.992Z"
   }
  ],
  "kernelspec": {
   "display_name": "Python 3",
   "language": "python",
   "name": "python3"
  },
  "language_info": {
   "codemirror_mode": {
    "name": "ipython",
    "version": 3
   },
   "file_extension": ".py",
   "mimetype": "text/x-python",
   "name": "python",
   "nbconvert_exporter": "python",
   "pygments_lexer": "ipython3",
   "version": "3.7.12"
  },
  "toc": {
   "base_numbering": 1,
   "nav_menu": {},
   "number_sections": true,
   "sideBar": true,
   "skip_h1_title": true,
   "title_cell": "Содержание",
   "title_sidebar": "Contents",
   "toc_cell": true,
   "toc_position": {
    "height": "calc(100% - 180px)",
    "left": "10px",
    "top": "150px",
    "width": "448px"
   },
   "toc_section_display": true,
   "toc_window_display": false
  },
  "widgets": {
   "application/vnd.jupyter.widget-state+json": {
    "state": {},
    "version_major": 2,
    "version_minor": 0
   }
  }
 },
 "nbformat": 4,
 "nbformat_minor": 2
}
